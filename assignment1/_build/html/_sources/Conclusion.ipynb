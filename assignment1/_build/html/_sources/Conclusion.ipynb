{
 "cells": [
  {
   "cell_type": "markdown",
   "id": "90d7e594",
   "metadata": {},
   "source": [
    "# Conclusion"
   ]
  },
  {
   "cell_type": "markdown",
   "id": "72279b82",
   "metadata": {},
   "source": []
  },
  {
   "cell_type": "markdown",
   "id": "071c187a",
   "metadata": {},
   "source": [
    "In this paper we looked at the k means clustering results from data obtained from participants taking part in the Iowa Gambling Task. We creating many k-means clusters using different parameters that I thought would make for interesting results. The parameters ranged from Profit/Loss margins, average correct choice to the sum of zeros the subject received. The different clusters gave us different insights but all resulted in similar conclusions."
   ]
  },
  {
   "cell_type": "markdown",
   "id": "3df81063",
   "metadata": {},
   "source": [
    "The main observations from the clustering was that the participants that received the most zeros (least losses) in general performed best and gained the most money. At the same time they also seemed to have lost."
   ]
  },
  {
   "cell_type": "markdown",
   "id": "84b01e8c",
   "metadata": {},
   "source": [
    "When I then looked further into the Wood study to observe how the different ages performed, I saw that the older population both performed the best and the worst with the younger population forming a large central cluster around the mean. "
   ]
  },
  {
   "cell_type": "markdown",
   "id": "262e329c",
   "metadata": {},
   "source": [
    "From my analysis of both the data and from my generated clusters, I can come to a conclusion that the younger population were quicker to switch cards and therefore ended up with a more average cluster in the middle. The older generation were less inclined to switch meaning that some were big gainers and others lost a lot."
   ]
  },
  {
   "cell_type": "code",
   "execution_count": null,
   "id": "10659277",
   "metadata": {},
   "outputs": [],
   "source": []
  },
  {
   "cell_type": "code",
   "execution_count": null,
   "id": "567cfe21",
   "metadata": {},
   "outputs": [],
   "source": []
  }
 ],
 "metadata": {
  "kernelspec": {
   "display_name": "Python 3",
   "language": "python",
   "name": "python3"
  },
  "language_info": {
   "codemirror_mode": {
    "name": "ipython",
    "version": 3
   },
   "file_extension": ".py",
   "mimetype": "text/x-python",
   "name": "python",
   "nbconvert_exporter": "python",
   "pygments_lexer": "ipython3",
   "version": "3.8.8"
  }
 },
 "nbformat": 4,
 "nbformat_minor": 5
}
