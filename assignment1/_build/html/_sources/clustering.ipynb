{
 "cells": [
  {
   "cell_type": "markdown",
   "id": "9ea81531",
   "metadata": {},
   "source": [
    "# **Clustering**"
   ]
  },
  {
   "cell_type": "code",
   "execution_count": 1,
   "id": "8b4484d5",
   "metadata": {
    "hide_input": true
   },
   "outputs": [],
   "source": [
    "import numpy as np\n",
    "import pandas as pd\n",
    "\n",
    "import matplotlib.pyplot as plt\n",
    "\n",
    "from numpy import arange\n",
    "\n",
    "import sklearn\n",
    "from sklearn import preprocessing\n",
    "from sklearn.preprocessing import minmax_scale\n",
    "from sklearn.cluster import KMeans\n",
    "from mpl_toolkits.mplot3d import Axes3D\n",
    "\n",
    "import sklearn.metrics as sm\n",
    "from sklearn.decomposition import PCA\n",
    "from sklearn.preprocessing import MinMaxScaler\n",
    "from sklearn import datasets\n",
    "from sklearn.metrics import confusion_matrix, classification_report"
   ]
  },
  {
   "cell_type": "code",
   "execution_count": 4,
   "id": "ceac889a",
   "metadata": {},
   "outputs": [
    {
     "data": {
      "text/plain": [
       "Index(['Unnamed: 0', 'Subjects', 'Difference', 'Total-B/D', 'Study',\n",
       "       'AgeProfile'],\n",
       "      dtype='object')"
      ]
     },
     "execution_count": 4,
     "metadata": {},
     "output_type": "execute_result"
    }
   ],
   "source": [
    "clustering = pd.read_csv('Data\\clustering.csv')\n",
    "cluster = KMeans(n_clusters = 4)\n",
    "cols = clustering.columns[:]\n",
    "clustering.drop(clustering.columns[[0]], axis = 1, inplace = True)\n",
    "clustering.head()"
   ]
  },
  {
   "cell_type": "code",
   "execution_count": 7,
   "id": "a5581c27",
   "metadata": {},
   "outputs": [
    {
     "data": {
      "text/html": [
       "<div>\n",
       "<style scoped>\n",
       "    .dataframe tbody tr th:only-of-type {\n",
       "        vertical-align: middle;\n",
       "    }\n",
       "\n",
       "    .dataframe tbody tr th {\n",
       "        vertical-align: top;\n",
       "    }\n",
       "\n",
       "    .dataframe thead th {\n",
       "        text-align: right;\n",
       "    }\n",
       "</style>\n",
       "<table border=\"1\" class=\"dataframe\">\n",
       "  <thead>\n",
       "    <tr style=\"text-align: right;\">\n",
       "      <th></th>\n",
       "      <th>Subjects</th>\n",
       "      <th>Difference</th>\n",
       "      <th>Total-B/D</th>\n",
       "      <th>Study</th>\n",
       "      <th>AgeProfile</th>\n",
       "      <th>cluster</th>\n",
       "    </tr>\n",
       "  </thead>\n",
       "  <tbody>\n",
       "    <tr>\n",
       "      <th>0</th>\n",
       "      <td>Subj_317</td>\n",
       "      <td>-320</td>\n",
       "      <td>56.0</td>\n",
       "      <td>Wood</td>\n",
       "      <td>Young</td>\n",
       "      <td>0</td>\n",
       "    </tr>\n",
       "    <tr>\n",
       "      <th>1</th>\n",
       "      <td>Subj_318</td>\n",
       "      <td>-1030</td>\n",
       "      <td>63.0</td>\n",
       "      <td>Wood</td>\n",
       "      <td>Young</td>\n",
       "      <td>0</td>\n",
       "    </tr>\n",
       "    <tr>\n",
       "      <th>2</th>\n",
       "      <td>Subj_319</td>\n",
       "      <td>-1850</td>\n",
       "      <td>59.0</td>\n",
       "      <td>Wood</td>\n",
       "      <td>Young</td>\n",
       "      <td>3</td>\n",
       "    </tr>\n",
       "    <tr>\n",
       "      <th>3</th>\n",
       "      <td>Subj_320</td>\n",
       "      <td>-775</td>\n",
       "      <td>54.0</td>\n",
       "      <td>Wood</td>\n",
       "      <td>Young</td>\n",
       "      <td>0</td>\n",
       "    </tr>\n",
       "    <tr>\n",
       "      <th>4</th>\n",
       "      <td>Subj_321</td>\n",
       "      <td>-1600</td>\n",
       "      <td>65.0</td>\n",
       "      <td>Wood</td>\n",
       "      <td>Young</td>\n",
       "      <td>3</td>\n",
       "    </tr>\n",
       "  </tbody>\n",
       "</table>\n",
       "</div>"
      ],
      "text/plain": [
       "   Subjects  Difference  Total-B/D Study AgeProfile  cluster\n",
       "0  Subj_317        -320       56.0  Wood      Young        0\n",
       "1  Subj_318       -1030       63.0  Wood      Young        0\n",
       "2  Subj_319       -1850       59.0  Wood      Young        3\n",
       "3  Subj_320        -775       54.0  Wood      Young        0\n",
       "4  Subj_321       -1600       65.0  Wood      Young        3"
      ]
     },
     "execution_count": 7,
     "metadata": {},
     "output_type": "execute_result"
    }
   ],
   "source": [
    "y_predicted = cluster.fit_predict(clustering[[\"Difference\",\"Total-B/D\"]])\n",
    "clustering[\"cluster\"] = y_predicted\n",
    "clustering.head()"
   ]
  },
  {
   "cell_type": "code",
   "execution_count": 8,
   "id": "b79e3829",
   "metadata": {
    "hide_input": true
   },
   "outputs": [
    {
     "name": "stderr",
     "output_type": "stream",
     "text": [
      "No handles with labels found to put in legend.\n"
     ]
    },
    {
     "data": {
      "text/plain": [
       "<matplotlib.legend.Legend at 0x297de399730>"
      ]
     },
     "execution_count": 8,
     "metadata": {},
     "output_type": "execute_result"
    },
    {
     "data": {
      "image/png": "[encoded data removed]",
      "text/plain": [
       "<Figure size 432x288 with 1 Axes>"
      ]
     },
     "metadata": {
      "needs_background": "light"
     },
     "output_type": "display_data"
    }
   ],
   "source": [
    "df1 = clustering[clustering.cluster==0]\n",
    "df2 = clustering[clustering.cluster==1]\n",
    "df3 = clustering[clustering.cluster==2]\n",
    "df4 = clustering[clustering.cluster==3]\n",
    "\n",
    "plt.scatter(df1.Difference, df1[\"Total-B/D\"], color='green')\n",
    "plt.scatter(df2.Difference, df2[\"Total-B/D\"], color='red')\n",
    "plt.scatter(df3.Difference, df3[\"Total-B/D\"], color='black')\n",
    "plt.scatter(df4.Difference, df4[\"Total-B/D\"], color='blue')\n",
    "\n",
    "plt.xlabel(\"Difference\")\n",
    "plt.ylabel(\"Total-B/D\")\n",
    "plt.legend()"
   ]
  },
  {
   "cell_type": "code",
   "execution_count": 10,
   "id": "9f319278",
   "metadata": {
    "hide_input": true
   },
   "outputs": [
    {
     "data": {
      "text/html": [
       "<div>\n",
       "<style scoped>\n",
       "    .dataframe tbody tr th:only-of-type {\n",
       "        vertical-align: middle;\n",
       "    }\n",
       "\n",
       "    .dataframe tbody tr th {\n",
       "        vertical-align: top;\n",
       "    }\n",
       "\n",
       "    .dataframe thead th {\n",
       "        text-align: right;\n",
       "    }\n",
       "</style>\n",
       "<table border=\"1\" class=\"dataframe\">\n",
       "  <thead>\n",
       "    <tr style=\"text-align: right;\">\n",
       "      <th></th>\n",
       "      <th>Subjects</th>\n",
       "      <th>Difference</th>\n",
       "      <th>Total-B/D</th>\n",
       "      <th>Study</th>\n",
       "      <th>AgeProfile</th>\n",
       "      <th>cluster</th>\n",
       "    </tr>\n",
       "  </thead>\n",
       "  <tbody>\n",
       "    <tr>\n",
       "      <th>0</th>\n",
       "      <td>Subj_317</td>\n",
       "      <td>0.582222</td>\n",
       "      <td>0.525424</td>\n",
       "      <td>Wood</td>\n",
       "      <td>Young</td>\n",
       "      <td>0</td>\n",
       "    </tr>\n",
       "    <tr>\n",
       "      <th>1</th>\n",
       "      <td>Subj_318</td>\n",
       "      <td>0.477037</td>\n",
       "      <td>0.644068</td>\n",
       "      <td>Wood</td>\n",
       "      <td>Young</td>\n",
       "      <td>0</td>\n",
       "    </tr>\n",
       "    <tr>\n",
       "      <th>2</th>\n",
       "      <td>Subj_319</td>\n",
       "      <td>0.355556</td>\n",
       "      <td>0.576271</td>\n",
       "      <td>Wood</td>\n",
       "      <td>Young</td>\n",
       "      <td>3</td>\n",
       "    </tr>\n",
       "    <tr>\n",
       "      <th>3</th>\n",
       "      <td>Subj_320</td>\n",
       "      <td>0.514815</td>\n",
       "      <td>0.491525</td>\n",
       "      <td>Wood</td>\n",
       "      <td>Young</td>\n",
       "      <td>0</td>\n",
       "    </tr>\n",
       "    <tr>\n",
       "      <th>4</th>\n",
       "      <td>Subj_321</td>\n",
       "      <td>0.392593</td>\n",
       "      <td>0.677966</td>\n",
       "      <td>Wood</td>\n",
       "      <td>Young</td>\n",
       "      <td>3</td>\n",
       "    </tr>\n",
       "  </tbody>\n",
       "</table>\n",
       "</div>"
      ],
      "text/plain": [
       "   Subjects  Difference  Total-B/D Study AgeProfile  cluster\n",
       "0  Subj_317    0.582222   0.525424  Wood      Young        0\n",
       "1  Subj_318    0.477037   0.644068  Wood      Young        0\n",
       "2  Subj_319    0.355556   0.576271  Wood      Young        3\n",
       "3  Subj_320    0.514815   0.491525  Wood      Young        0\n",
       "4  Subj_321    0.392593   0.677966  Wood      Young        3"
      ]
     },
     "execution_count": 10,
     "metadata": {},
     "output_type": "execute_result"
    }
   ],
   "source": [
    "clustering[['Difference','Total-B/D']] = minmax_scale(clustering[['Difference','Total-B/D']])\n",
    "clustering.head()"
   ]
  },
  {
   "cell_type": "code",
   "execution_count": 11,
   "id": "36ec677d",
   "metadata": {},
   "outputs": [
    {
     "data": {
      "text/plain": [
       "array([0, 0, 0, 0, 1, 0, 1, 0, 2, 2, 1, 0, 1, 0, 0, 3, 2, 0, 0, 0, 0, 1,\n",
       "       2, 0, 0, 0, 0, 2, 0, 2, 0, 0, 2, 0, 1, 2, 0, 2, 0, 0, 0, 0, 3, 2,\n",
       "       2, 2, 0, 0, 0, 0, 2, 1, 1, 0, 1, 0, 0, 0, 0, 0, 3, 1, 2, 2, 2, 0,\n",
       "       3, 0, 2, 0, 0, 1, 1, 2, 2, 0, 0, 0, 2, 0, 0, 0, 3, 0, 1, 0, 0, 2,\n",
       "       0, 2, 1, 1, 1, 1, 0, 2, 1, 3, 0, 2, 2, 0, 1, 0, 2, 3, 2, 0, 2, 0,\n",
       "       0, 0, 1, 2, 0, 0, 0, 0, 1, 0, 2, 0, 1, 1, 1, 2, 1, 1, 0, 1, 1, 1,\n",
       "       2, 0, 0, 0, 3, 2, 0, 1, 1, 1, 2, 1, 1, 2, 1, 1, 2, 0, 1, 2, 0])"
      ]
     },
     "execution_count": 11,
     "metadata": {},
     "output_type": "execute_result"
    }
   ],
   "source": [
    "km = KMeans(n_clusters=4)\n",
    "y_predicted = km.fit_predict(clustering[[\"Difference\", \"Total-B/D\"]])"
   ]
  },
  {
   "cell_type": "code",
   "execution_count": 12,
   "id": "105c60e1",
   "metadata": {},
   "outputs": [
    {
     "data": {
      "text/html": [
       "<div>\n",
       "<style scoped>\n",
       "    .dataframe tbody tr th:only-of-type {\n",
       "        vertical-align: middle;\n",
       "    }\n",
       "\n",
       "    .dataframe tbody tr th {\n",
       "        vertical-align: top;\n",
       "    }\n",
       "\n",
       "    .dataframe thead th {\n",
       "        text-align: right;\n",
       "    }\n",
       "</style>\n",
       "<table border=\"1\" class=\"dataframe\">\n",
       "  <thead>\n",
       "    <tr style=\"text-align: right;\">\n",
       "      <th></th>\n",
       "      <th>Subjects</th>\n",
       "      <th>Difference</th>\n",
       "      <th>Total-B/D</th>\n",
       "      <th>Study</th>\n",
       "      <th>AgeProfile</th>\n",
       "      <th>cluster</th>\n",
       "    </tr>\n",
       "  </thead>\n",
       "  <tbody>\n",
       "    <tr>\n",
       "      <th>0</th>\n",
       "      <td>Subj_317</td>\n",
       "      <td>0.582222</td>\n",
       "      <td>0.525424</td>\n",
       "      <td>Wood</td>\n",
       "      <td>Young</td>\n",
       "      <td>0</td>\n",
       "    </tr>\n",
       "    <tr>\n",
       "      <th>1</th>\n",
       "      <td>Subj_318</td>\n",
       "      <td>0.477037</td>\n",
       "      <td>0.644068</td>\n",
       "      <td>Wood</td>\n",
       "      <td>Young</td>\n",
       "      <td>0</td>\n",
       "    </tr>\n",
       "    <tr>\n",
       "      <th>2</th>\n",
       "      <td>Subj_319</td>\n",
       "      <td>0.355556</td>\n",
       "      <td>0.576271</td>\n",
       "      <td>Wood</td>\n",
       "      <td>Young</td>\n",
       "      <td>0</td>\n",
       "    </tr>\n",
       "    <tr>\n",
       "      <th>3</th>\n",
       "      <td>Subj_320</td>\n",
       "      <td>0.514815</td>\n",
       "      <td>0.491525</td>\n",
       "      <td>Wood</td>\n",
       "      <td>Young</td>\n",
       "      <td>0</td>\n",
       "    </tr>\n",
       "    <tr>\n",
       "      <th>4</th>\n",
       "      <td>Subj_321</td>\n",
       "      <td>0.392593</td>\n",
       "      <td>0.677966</td>\n",
       "      <td>Wood</td>\n",
       "      <td>Young</td>\n",
       "      <td>1</td>\n",
       "    </tr>\n",
       "  </tbody>\n",
       "</table>\n",
       "</div>"
      ],
      "text/plain": [
       "   Subjects  Difference  Total-B/D Study AgeProfile  cluster\n",
       "0  Subj_317    0.582222   0.525424  Wood      Young        0\n",
       "1  Subj_318    0.477037   0.644068  Wood      Young        0\n",
       "2  Subj_319    0.355556   0.576271  Wood      Young        0\n",
       "3  Subj_320    0.514815   0.491525  Wood      Young        0\n",
       "4  Subj_321    0.392593   0.677966  Wood      Young        1"
      ]
     },
     "execution_count": 12,
     "metadata": {},
     "output_type": "execute_result"
    }
   ],
   "source": [
    "clustering[\"cluster\"] = y_predicted\n",
    "clustering.head()"
   ]
  },
  {
   "cell_type": "code",
   "execution_count": 13,
   "id": "376b401a",
   "metadata": {},
   "outputs": [
    {
     "data": {
      "text/plain": [
       "array([[0.48381847, 0.48627357],\n",
       "       [0.32816817, 0.74530463],\n",
       "       [0.68542543, 0.74713697],\n",
       "       [0.84861111, 0.1970339 ]])"
      ]
     },
     "execution_count": 13,
     "metadata": {},
     "output_type": "execute_result"
    }
   ],
   "source": [
    "km.cluster_centers_"
   ]
  },
  {
   "cell_type": "code",
   "execution_count": 15,
   "id": "87ed2a11",
   "metadata": {
    "hide_input": true
   },
   "outputs": [
    {
     "data": {
      "text/plain": [
       "<matplotlib.legend.Legend at 0x297de781a90>"
      ]
     },
     "execution_count": 15,
     "metadata": {},
     "output_type": "execute_result"
    },
    {
     "data": {
      "image/png": "[encoded data removed]",
      "text/plain": [
       "<Figure size 432x288 with 1 Axes>"
      ]
     },
     "metadata": {
      "needs_background": "light"
     },
     "output_type": "display_data"
    }
   ],
   "source": [
    "df1 = clustering[clustering.cluster==0]\n",
    "df2 = clustering[clustering.cluster==1]\n",
    "df3 = clustering[clustering.cluster==2]\n",
    "df4 = clustering[clustering.cluster==3]\n",
    "\n",
    "plt.scatter(df1.Difference, df1[\"Total-B/D\"], color='green')\n",
    "plt.scatter(df2.Difference, df2[\"Total-B/D\"], color='red')\n",
    "plt.scatter(df3.Difference, df3[\"Total-B/D\"], color='black')\n",
    "plt.scatter(df4.Difference, df4[\"Total-B/D\"], color='blue')\n",
    "\n",
    "plt.scatter(km.cluster_centers_[:,0], km.cluster_centers_[:,1], color=\"orange\", marker=\"*\", label=\"centroid\")\n",
    "\n",
    "plt.xlabel(\"Difference\")\n",
    "plt.ylabel(\"Total-B/D\")\n",
    "plt.legend()"
   ]
  },
  {
   "cell_type": "code",
   "execution_count": 16,
   "id": "d64c1e48",
   "metadata": {},
   "outputs": [
    {
     "name": "stderr",
     "output_type": "stream",
     "text": [
      "C:\\Users\\User\\anaconda3\\lib\\site-packages\\sklearn\\cluster\\_kmeans.py:881: UserWarning: KMeans is known to have a memory leak on Windows with MKL, when there are less chunks than available threads. You can avoid it by setting the environment variable OMP_NUM_THREADS=1.\n",
      "  warnings.warn(\n"
     ]
    }
   ],
   "source": [
    "k_rng = range(1,10)\n",
    "sse = []\n",
    "for k in k_rng:\n",
    "    km = KMeans(n_clusters=k)\n",
    "    km.fit(clustering[[\"Difference\", \"Total-B/D\"]])\n",
    "    sse.append(km.inertia_)"
   ]
  },
  {
   "cell_type": "code",
   "execution_count": 17,
   "id": "cc92adcf",
   "metadata": {},
   "outputs": [
    {
     "data": {
      "text/plain": [
       "[10.51271497908734,\n",
       " 7.002641222899951,\n",
       " 4.788279566527742,\n",
       " 3.3892316916603384,\n",
       " 2.7411088842868634,\n",
       " 2.1955361147494585,\n",
       " 1.8640746089464,\n",
       " 1.5518866459800698,\n",
       " 1.366713096830797]"
      ]
     },
     "execution_count": 17,
     "metadata": {},
     "output_type": "execute_result"
    }
   ],
   "source": [
    "sse"
   ]
  },
  {
   "cell_type": "code",
   "execution_count": 19,
   "id": "eb75bfd0",
   "metadata": {
    "hide_input": true
   },
   "outputs": [
    {
     "data": {
      "text/plain": [
       "[<matplotlib.lines.Line2D at 0x297de7b18b0>]"
      ]
     },
     "execution_count": 19,
     "metadata": {},
     "output_type": "execute_result"
    },
    {
     "data": {
      "image/png": "[encoded data removed]",
      "text/plain": [
       "<Figure size 432x288 with 1 Axes>"
      ]
     },
     "metadata": {
      "needs_background": "light"
     },
     "output_type": "display_data"
    }
   ],
   "source": [
    "plt.xlabel(\"K\")\n",
    "plt.ylabel(\"Sum of squared error\")\n",
    "plt.plot(k_rng, sse)\n",
    "#This is indictaing that the optimum number of clusters is 4 but 3 is also a reasonable choice"
   ]
  },
  {
   "cell_type": "code",
   "execution_count": null,
   "id": "b918f7bb",
   "metadata": {},
   "outputs": [],
   "source": []
  },
  {
   "cell_type": "code",
   "execution_count": null,
   "id": "61621fc2",
   "metadata": {},
   "outputs": [],
   "source": []
  }
 ],
 "metadata": {
  "kernelspec": {
   "display_name": "Python 3",
   "language": "python",
   "name": "python3"
  },
  "language_info": {
   "codemirror_mode": {
    "name": "ipython",
    "version": 3
   },
   "file_extension": ".py",
   "mimetype": "text/x-python",
   "name": "python",
   "nbconvert_exporter": "python",
   "pygments_lexer": "ipython3",
   "version": "3.8.8"
  }
 },
 "nbformat": 4,
 "nbformat_minor": 5
}
