{
 "cells": [
  {
   "cell_type": "markdown",
   "id": "9ea81531",
   "metadata": {},
   "source": [
    "# **Wood study clustering**"
   ]
  },
  {
   "cell_type": "code",
   "execution_count": 1,
   "id": "8b4484d5",
   "metadata": {
    "tags": [
     "remove-output"
    ]
   },
   "outputs": [
    {
     "ename": "ModuleNotFoundError",
     "evalue": "No module named 'numpy'",
     "output_type": "error",
     "traceback": [
      "\u001b[1;31m---------------------------------------------------------------------------\u001b[0m",
      "\u001b[1;31mModuleNotFoundError\u001b[0m                       Traceback (most recent call last)",
      "\u001b[1;32m~\\AppData\\Local\\Temp/ipykernel_11476/896990326.py\u001b[0m in \u001b[0;36m<module>\u001b[1;34m\u001b[0m\n\u001b[1;32m----> 1\u001b[1;33m \u001b[1;32mimport\u001b[0m \u001b[0mnumpy\u001b[0m \u001b[1;32mas\u001b[0m \u001b[0mnp\u001b[0m\u001b[1;33m\u001b[0m\u001b[1;33m\u001b[0m\u001b[0m\n\u001b[0m\u001b[0;32m      2\u001b[0m \u001b[1;32mimport\u001b[0m \u001b[0mpandas\u001b[0m \u001b[1;32mas\u001b[0m \u001b[0mpd\u001b[0m\u001b[1;33m\u001b[0m\u001b[1;33m\u001b[0m\u001b[0m\n\u001b[0;32m      3\u001b[0m \u001b[1;33m\u001b[0m\u001b[0m\n\u001b[0;32m      4\u001b[0m \u001b[1;32mimport\u001b[0m \u001b[0mmatplotlib\u001b[0m\u001b[1;33m.\u001b[0m\u001b[0mpyplot\u001b[0m \u001b[1;32mas\u001b[0m \u001b[0mplt\u001b[0m\u001b[1;33m\u001b[0m\u001b[1;33m\u001b[0m\u001b[0m\n\u001b[0;32m      5\u001b[0m \u001b[1;33m\u001b[0m\u001b[0m\n",
      "\u001b[1;31mModuleNotFoundError\u001b[0m: No module named 'numpy'"
     ]
    }
   ],
   "source": [
    "import numpy as np\n",
    "import pandas as pd\n",
    "\n",
    "import matplotlib.pyplot as plt\n",
    "\n",
    "from numpy import arange\n",
    "\n",
    "import seaborn as sns\n",
    "import sklearn\n",
    "from sklearn import preprocessing\n",
    "from sklearn.preprocessing import minmax_scale\n",
    "from sklearn.cluster import KMeans\n",
    "from mpl_toolkits.mplot3d import Axes3D\n",
    "\n",
    "import sklearn.metrics as sm\n",
    "from sklearn.decomposition import PCA\n",
    "from sklearn.preprocessing import MinMaxScaler\n",
    "from sklearn import datasets\n",
    "from sklearn.metrics import confusion_matrix, classification_report"
   ]
  },
  {
   "cell_type": "code",
   "execution_count": 2,
   "id": "ceac889a",
   "metadata": {},
   "outputs": [
    {
     "data": {
      "text/html": [
       "<div>\n",
       "<style scoped>\n",
       "    .dataframe tbody tr th:only-of-type {\n",
       "        vertical-align: middle;\n",
       "    }\n",
       "\n",
       "    .dataframe tbody tr th {\n",
       "        vertical-align: top;\n",
       "    }\n",
       "\n",
       "    .dataframe thead th {\n",
       "        text-align: right;\n",
       "    }\n",
       "</style>\n",
       "<table border=\"1\" class=\"dataframe\">\n",
       "  <thead>\n",
       "    <tr style=\"text-align: right;\">\n",
       "      <th></th>\n",
       "      <th>Subjects</th>\n",
       "      <th>Difference</th>\n",
       "      <th>Total-B/D</th>\n",
       "      <th>Study</th>\n",
       "      <th>AgeProfile</th>\n",
       "    </tr>\n",
       "  </thead>\n",
       "  <tbody>\n",
       "    <tr>\n",
       "      <th>0</th>\n",
       "      <td>Subj_317</td>\n",
       "      <td>-320</td>\n",
       "      <td>56.0</td>\n",
       "      <td>Wood</td>\n",
       "      <td>Young</td>\n",
       "    </tr>\n",
       "    <tr>\n",
       "      <th>1</th>\n",
       "      <td>Subj_318</td>\n",
       "      <td>-1030</td>\n",
       "      <td>63.0</td>\n",
       "      <td>Wood</td>\n",
       "      <td>Young</td>\n",
       "    </tr>\n",
       "    <tr>\n",
       "      <th>2</th>\n",
       "      <td>Subj_319</td>\n",
       "      <td>-1850</td>\n",
       "      <td>59.0</td>\n",
       "      <td>Wood</td>\n",
       "      <td>Young</td>\n",
       "    </tr>\n",
       "    <tr>\n",
       "      <th>3</th>\n",
       "      <td>Subj_320</td>\n",
       "      <td>-775</td>\n",
       "      <td>54.0</td>\n",
       "      <td>Wood</td>\n",
       "      <td>Young</td>\n",
       "    </tr>\n",
       "    <tr>\n",
       "      <th>4</th>\n",
       "      <td>Subj_321</td>\n",
       "      <td>-1600</td>\n",
       "      <td>65.0</td>\n",
       "      <td>Wood</td>\n",
       "      <td>Young</td>\n",
       "    </tr>\n",
       "  </tbody>\n",
       "</table>\n",
       "</div>"
      ],
      "text/plain": [
       "   Subjects  Difference  Total-B/D Study AgeProfile\n",
       "0  Subj_317        -320       56.0  Wood      Young\n",
       "1  Subj_318       -1030       63.0  Wood      Young\n",
       "2  Subj_319       -1850       59.0  Wood      Young\n",
       "3  Subj_320        -775       54.0  Wood      Young\n",
       "4  Subj_321       -1600       65.0  Wood      Young"
      ]
     },
     "execution_count": 2,
     "metadata": {},
     "output_type": "execute_result"
    }
   ],
   "source": [
    "clustering = pd.read_csv('Data\\clustering.csv')\n",
    "cluster = KMeans(n_clusters = 4)\n",
    "cols = clustering.columns[:]\n",
    "clustering.drop(clustering.columns[[0]], axis = 1, inplace = True)\n",
    "clustering.head()"
   ]
  },
  {
   "cell_type": "code",
   "execution_count": 3,
   "id": "a5581c27",
   "metadata": {},
   "outputs": [
    {
     "data": {
      "text/html": [
       "<div>\n",
       "<style scoped>\n",
       "    .dataframe tbody tr th:only-of-type {\n",
       "        vertical-align: middle;\n",
       "    }\n",
       "\n",
       "    .dataframe tbody tr th {\n",
       "        vertical-align: top;\n",
       "    }\n",
       "\n",
       "    .dataframe thead th {\n",
       "        text-align: right;\n",
       "    }\n",
       "</style>\n",
       "<table border=\"1\" class=\"dataframe\">\n",
       "  <thead>\n",
       "    <tr style=\"text-align: right;\">\n",
       "      <th></th>\n",
       "      <th>Subjects</th>\n",
       "      <th>Difference</th>\n",
       "      <th>Total-B/D</th>\n",
       "      <th>Study</th>\n",
       "      <th>AgeProfile</th>\n",
       "      <th>cluster</th>\n",
       "    </tr>\n",
       "  </thead>\n",
       "  <tbody>\n",
       "    <tr>\n",
       "      <th>0</th>\n",
       "      <td>Subj_317</td>\n",
       "      <td>-320</td>\n",
       "      <td>56.0</td>\n",
       "      <td>Wood</td>\n",
       "      <td>Young</td>\n",
       "      <td>1</td>\n",
       "    </tr>\n",
       "    <tr>\n",
       "      <th>1</th>\n",
       "      <td>Subj_318</td>\n",
       "      <td>-1030</td>\n",
       "      <td>63.0</td>\n",
       "      <td>Wood</td>\n",
       "      <td>Young</td>\n",
       "      <td>1</td>\n",
       "    </tr>\n",
       "    <tr>\n",
       "      <th>2</th>\n",
       "      <td>Subj_319</td>\n",
       "      <td>-1850</td>\n",
       "      <td>59.0</td>\n",
       "      <td>Wood</td>\n",
       "      <td>Young</td>\n",
       "      <td>0</td>\n",
       "    </tr>\n",
       "    <tr>\n",
       "      <th>3</th>\n",
       "      <td>Subj_320</td>\n",
       "      <td>-775</td>\n",
       "      <td>54.0</td>\n",
       "      <td>Wood</td>\n",
       "      <td>Young</td>\n",
       "      <td>1</td>\n",
       "    </tr>\n",
       "    <tr>\n",
       "      <th>4</th>\n",
       "      <td>Subj_321</td>\n",
       "      <td>-1600</td>\n",
       "      <td>65.0</td>\n",
       "      <td>Wood</td>\n",
       "      <td>Young</td>\n",
       "      <td>0</td>\n",
       "    </tr>\n",
       "  </tbody>\n",
       "</table>\n",
       "</div>"
      ],
      "text/plain": [
       "   Subjects  Difference  Total-B/D Study AgeProfile  cluster\n",
       "0  Subj_317        -320       56.0  Wood      Young        1\n",
       "1  Subj_318       -1030       63.0  Wood      Young        1\n",
       "2  Subj_319       -1850       59.0  Wood      Young        0\n",
       "3  Subj_320        -775       54.0  Wood      Young        1\n",
       "4  Subj_321       -1600       65.0  Wood      Young        0"
      ]
     },
     "execution_count": 3,
     "metadata": {},
     "output_type": "execute_result"
    }
   ],
   "source": [
    "y_predicted = cluster.fit_predict(clustering[[\"Difference\",\"Total-B/D\"]])\n",
    "clustering[\"cluster\"] = y_predicted\n",
    "clustering.head()"
   ]
  },
  {
   "cell_type": "code",
   "execution_count": 4,
   "id": "b79e3829",
   "metadata": {
    "hide_input": false,
    "scrolled": true
   },
   "outputs": [
    {
     "name": "stderr",
     "output_type": "stream",
     "text": [
      "No handles with labels found to put in legend.\n"
     ]
    },
    {
     "data": {
      "text/plain": [
       "<matplotlib.legend.Legend at 0x1ebe94dce50>"
      ]
     },
     "execution_count": 4,
     "metadata": {},
     "output_type": "execute_result"
    },
    {
     "data": {
      "image/png": "[encoded data removed]",
      "text/plain": [
       "<Figure size 432x288 with 1 Axes>"
      ]
     },
     "metadata": {
      "filenames": {
       "image/png": "C:\\daniel\\ca4015\\assignment1\\_build\\jupyter_execute\\Wood_clustering_4_2.png"
      },
      "needs_background": "light"
     },
     "output_type": "display_data"
    }
   ],
   "source": [
    "df1 = clustering[clustering.cluster==0]\n",
    "df2 = clustering[clustering.cluster==1]\n",
    "df3 = clustering[clustering.cluster==2]\n",
    "df4 = clustering[clustering.cluster==3]\n",
    "\n",
    "plt.scatter(df1.Difference, df1[\"Total-B/D\"], color='green')\n",
    "plt.scatter(df2.Difference, df2[\"Total-B/D\"], color='red')\n",
    "plt.scatter(df3.Difference, df3[\"Total-B/D\"], color='black')\n",
    "plt.scatter(df4.Difference, df4[\"Total-B/D\"], color='blue')\n",
    "\n",
    "plt.xlabel(\"Difference\")\n",
    "plt.ylabel(\"Total-B/D\")\n",
    "plt.legend()"
   ]
  },
  {
   "cell_type": "code",
   "execution_count": 5,
   "id": "9f319278",
   "metadata": {
    "hide_input": false
   },
   "outputs": [
    {
     "data": {
      "text/html": [
       "<div>\n",
       "<style scoped>\n",
       "    .dataframe tbody tr th:only-of-type {\n",
       "        vertical-align: middle;\n",
       "    }\n",
       "\n",
       "    .dataframe tbody tr th {\n",
       "        vertical-align: top;\n",
       "    }\n",
       "\n",
       "    .dataframe thead th {\n",
       "        text-align: right;\n",
       "    }\n",
       "</style>\n",
       "<table border=\"1\" class=\"dataframe\">\n",
       "  <thead>\n",
       "    <tr style=\"text-align: right;\">\n",
       "      <th></th>\n",
       "      <th>Subjects</th>\n",
       "      <th>Difference</th>\n",
       "      <th>Total-B/D</th>\n",
       "      <th>Study</th>\n",
       "      <th>AgeProfile</th>\n",
       "      <th>cluster</th>\n",
       "    </tr>\n",
       "  </thead>\n",
       "  <tbody>\n",
       "    <tr>\n",
       "      <th>0</th>\n",
       "      <td>Subj_317</td>\n",
       "      <td>0.582222</td>\n",
       "      <td>0.525424</td>\n",
       "      <td>Wood</td>\n",
       "      <td>Young</td>\n",
       "      <td>1</td>\n",
       "    </tr>\n",
       "    <tr>\n",
       "      <th>1</th>\n",
       "      <td>Subj_318</td>\n",
       "      <td>0.477037</td>\n",
       "      <td>0.644068</td>\n",
       "      <td>Wood</td>\n",
       "      <td>Young</td>\n",
       "      <td>1</td>\n",
       "    </tr>\n",
       "    <tr>\n",
       "      <th>2</th>\n",
       "      <td>Subj_319</td>\n",
       "      <td>0.355556</td>\n",
       "      <td>0.576271</td>\n",
       "      <td>Wood</td>\n",
       "      <td>Young</td>\n",
       "      <td>0</td>\n",
       "    </tr>\n",
       "    <tr>\n",
       "      <th>3</th>\n",
       "      <td>Subj_320</td>\n",
       "      <td>0.514815</td>\n",
       "      <td>0.491525</td>\n",
       "      <td>Wood</td>\n",
       "      <td>Young</td>\n",
       "      <td>1</td>\n",
       "    </tr>\n",
       "    <tr>\n",
       "      <th>4</th>\n",
       "      <td>Subj_321</td>\n",
       "      <td>0.392593</td>\n",
       "      <td>0.677966</td>\n",
       "      <td>Wood</td>\n",
       "      <td>Young</td>\n",
       "      <td>0</td>\n",
       "    </tr>\n",
       "  </tbody>\n",
       "</table>\n",
       "</div>"
      ],
      "text/plain": [
       "   Subjects  Difference  Total-B/D Study AgeProfile  cluster\n",
       "0  Subj_317    0.582222   0.525424  Wood      Young        1\n",
       "1  Subj_318    0.477037   0.644068  Wood      Young        1\n",
       "2  Subj_319    0.355556   0.576271  Wood      Young        0\n",
       "3  Subj_320    0.514815   0.491525  Wood      Young        1\n",
       "4  Subj_321    0.392593   0.677966  Wood      Young        0"
      ]
     },
     "execution_count": 5,
     "metadata": {},
     "output_type": "execute_result"
    }
   ],
   "source": [
    "clustering[['Difference','Total-B/D']] = minmax_scale(clustering[['Difference','Total-B/D']])\n",
    "clustering.head()"
   ]
  },
  {
   "cell_type": "code",
   "execution_count": 6,
   "id": "36ec677d",
   "metadata": {},
   "outputs": [],
   "source": [
    "km = KMeans(n_clusters=4)\n",
    "y_predicted = km.fit_predict(clustering[[\"Difference\", \"Total-B/D\"]])"
   ]
  },
  {
   "cell_type": "code",
   "execution_count": 7,
   "id": "105c60e1",
   "metadata": {},
   "outputs": [
    {
     "data": {
      "text/html": [
       "<div>\n",
       "<style scoped>\n",
       "    .dataframe tbody tr th:only-of-type {\n",
       "        vertical-align: middle;\n",
       "    }\n",
       "\n",
       "    .dataframe tbody tr th {\n",
       "        vertical-align: top;\n",
       "    }\n",
       "\n",
       "    .dataframe thead th {\n",
       "        text-align: right;\n",
       "    }\n",
       "</style>\n",
       "<table border=\"1\" class=\"dataframe\">\n",
       "  <thead>\n",
       "    <tr style=\"text-align: right;\">\n",
       "      <th></th>\n",
       "      <th>Subjects</th>\n",
       "      <th>Difference</th>\n",
       "      <th>Total-B/D</th>\n",
       "      <th>Study</th>\n",
       "      <th>AgeProfile</th>\n",
       "      <th>cluster</th>\n",
       "    </tr>\n",
       "  </thead>\n",
       "  <tbody>\n",
       "    <tr>\n",
       "      <th>0</th>\n",
       "      <td>Subj_317</td>\n",
       "      <td>0.582222</td>\n",
       "      <td>0.525424</td>\n",
       "      <td>Wood</td>\n",
       "      <td>Young</td>\n",
       "      <td>1</td>\n",
       "    </tr>\n",
       "    <tr>\n",
       "      <th>1</th>\n",
       "      <td>Subj_318</td>\n",
       "      <td>0.477037</td>\n",
       "      <td>0.644068</td>\n",
       "      <td>Wood</td>\n",
       "      <td>Young</td>\n",
       "      <td>1</td>\n",
       "    </tr>\n",
       "    <tr>\n",
       "      <th>2</th>\n",
       "      <td>Subj_319</td>\n",
       "      <td>0.355556</td>\n",
       "      <td>0.576271</td>\n",
       "      <td>Wood</td>\n",
       "      <td>Young</td>\n",
       "      <td>1</td>\n",
       "    </tr>\n",
       "    <tr>\n",
       "      <th>3</th>\n",
       "      <td>Subj_320</td>\n",
       "      <td>0.514815</td>\n",
       "      <td>0.491525</td>\n",
       "      <td>Wood</td>\n",
       "      <td>Young</td>\n",
       "      <td>1</td>\n",
       "    </tr>\n",
       "    <tr>\n",
       "      <th>4</th>\n",
       "      <td>Subj_321</td>\n",
       "      <td>0.392593</td>\n",
       "      <td>0.677966</td>\n",
       "      <td>Wood</td>\n",
       "      <td>Young</td>\n",
       "      <td>3</td>\n",
       "    </tr>\n",
       "  </tbody>\n",
       "</table>\n",
       "</div>"
      ],
      "text/plain": [
       "   Subjects  Difference  Total-B/D Study AgeProfile  cluster\n",
       "0  Subj_317    0.582222   0.525424  Wood      Young        1\n",
       "1  Subj_318    0.477037   0.644068  Wood      Young        1\n",
       "2  Subj_319    0.355556   0.576271  Wood      Young        1\n",
       "3  Subj_320    0.514815   0.491525  Wood      Young        1\n",
       "4  Subj_321    0.392593   0.677966  Wood      Young        3"
      ]
     },
     "execution_count": 7,
     "metadata": {},
     "output_type": "execute_result"
    }
   ],
   "source": [
    "clustering[\"cluster\"] = y_predicted\n",
    "clustering.head()"
   ]
  },
  {
   "cell_type": "code",
   "execution_count": 8,
   "id": "376b401a",
   "metadata": {},
   "outputs": [
    {
     "data": {
      "text/plain": [
       "array([[0.68542543, 0.74713697],\n",
       "       [0.48381847, 0.48627357],\n",
       "       [0.84861111, 0.1970339 ],\n",
       "       [0.32816817, 0.74530463]])"
      ]
     },
     "execution_count": 8,
     "metadata": {},
     "output_type": "execute_result"
    }
   ],
   "source": [
    "km.cluster_centers_"
   ]
  },
  {
   "cell_type": "code",
   "execution_count": 9,
   "id": "87ed2a11",
   "metadata": {
    "hide_input": false
   },
   "outputs": [
    {
     "data": {
      "text/plain": [
       "<matplotlib.legend.Legend at 0x1ebe95fc070>"
      ]
     },
     "execution_count": 9,
     "metadata": {},
     "output_type": "execute_result"
    },
    {
     "data": {
      "image/png": "[encoded data removed]",
      "text/plain": [
       "<Figure size 432x288 with 1 Axes>"
      ]
     },
     "metadata": {
      "filenames": {
       "image/png": "C:\\daniel\\ca4015\\assignment1\\_build\\jupyter_execute\\Wood_clustering_9_1.png"
      },
      "needs_background": "light"
     },
     "output_type": "display_data"
    }
   ],
   "source": [
    "df1 = clustering[clustering.cluster==0]\n",
    "df2 = clustering[clustering.cluster==1]\n",
    "df3 = clustering[clustering.cluster==2]\n",
    "df4 = clustering[clustering.cluster==3]\n",
    "\n",
    "plt.scatter(df1.Difference, df1[\"Total-B/D\"], color='green')\n",
    "plt.scatter(df2.Difference, df2[\"Total-B/D\"], color='red')\n",
    "plt.scatter(df3.Difference, df3[\"Total-B/D\"], color='black')\n",
    "plt.scatter(df4.Difference, df4[\"Total-B/D\"], color='blue')\n",
    "\n",
    "plt.scatter(km.cluster_centers_[:,0], km.cluster_centers_[:,1], color=\"orange\", marker=\"*\", label=\"centroid\")\n",
    "\n",
    "plt.xlabel(\"Difference\")\n",
    "plt.ylabel(\"Total-B/D\")\n",
    "plt.legend()"
   ]
  },
  {
   "cell_type": "code",
   "execution_count": 10,
   "id": "d64c1e48",
   "metadata": {},
   "outputs": [
    {
     "name": "stderr",
     "output_type": "stream",
     "text": [
      "C:\\Users\\User\\anaconda3\\lib\\site-packages\\sklearn\\cluster\\_kmeans.py:881: UserWarning: KMeans is known to have a memory leak on Windows with MKL, when there are less chunks than available threads. You can avoid it by setting the environment variable OMP_NUM_THREADS=1.\n",
      "  warnings.warn(\n"
     ]
    }
   ],
   "source": [
    "k_rng = range(1,10)\n",
    "sse = []\n",
    "for k in k_rng:\n",
    "    km = KMeans(n_clusters=k)\n",
    "    km.fit(clustering[[\"Difference\", \"Total-B/D\"]])\n",
    "    sse.append(km.inertia_)"
   ]
  },
  {
   "cell_type": "code",
   "execution_count": 11,
   "id": "cc92adcf",
   "metadata": {},
   "outputs": [
    {
     "data": {
      "text/plain": [
       "[10.51271497908734,\n",
       " 7.002477933644922,\n",
       " 4.792439965393865,\n",
       " 3.389203444262832,\n",
       " 2.715272036657807,\n",
       " 2.2005444272307195,\n",
       " 1.8773169847586275,\n",
       " 1.5541505843165464,\n",
       " 1.3673663500349262]"
      ]
     },
     "execution_count": 11,
     "metadata": {},
     "output_type": "execute_result"
    }
   ],
   "source": [
    "sse"
   ]
  },
  {
   "cell_type": "code",
   "execution_count": 12,
   "id": "eb75bfd0",
   "metadata": {
    "hide_input": false
   },
   "outputs": [
    {
     "data": {
      "text/plain": [
       "[<matplotlib.lines.Line2D at 0x1ebe96ae970>]"
      ]
     },
     "execution_count": 12,
     "metadata": {},
     "output_type": "execute_result"
    },
    {
     "data": {
      "image/png": "[encoded data removed]",
      "text/plain": [
       "<Figure size 432x288 with 1 Axes>"
      ]
     },
     "metadata": {
      "filenames": {
       "image/png": "C:\\daniel\\ca4015\\assignment1\\_build\\jupyter_execute\\Wood_clustering_12_1.png"
      },
      "needs_background": "light"
     },
     "output_type": "display_data"
    }
   ],
   "source": [
    "plt.xlabel(\"K\")\n",
    "plt.ylabel(\"Sum of squared error\")\n",
    "plt.plot(k_rng, sse)\n",
    "#This is indictaing that the optimum number of clusters is 4 but 3 is also a reasonable choice"
   ]
  },
  {
   "cell_type": "code",
   "execution_count": 14,
   "id": "b918f7bb",
   "metadata": {},
   "outputs": [
    {
     "data": {
      "text/plain": [
       "<matplotlib.legend.Legend at 0x1ebe9b215e0>"
      ]
     },
     "execution_count": 14,
     "metadata": {},
     "output_type": "execute_result"
    },
    {
     "data": {
      "image/png": "[encoded data removed]",
      "text/plain": [
       "<Figure size 432x288 with 1 Axes>"
      ]
     },
     "metadata": {
      "filenames": {
       "image/png": "C:\\daniel\\ca4015\\assignment1\\_build\\jupyter_execute\\Wood_clustering_13_1.png"
      },
      "needs_background": "light"
     },
     "output_type": "display_data"
    }
   ],
   "source": [
    "sns.scatterplot(data=clustering, x=\"Difference\", y=\"Total-B/D\", hue=\"AgeProfile\")\n",
    "plt.legend(loc='center left', bbox_to_anchor=(1.0, 0.5))"
   ]
  },
  {
   "cell_type": "code",
   "execution_count": null,
   "id": "61621fc2",
   "metadata": {},
   "outputs": [],
   "source": []
  }
 ],
 "metadata": {
  "celltoolbar": "Edit Metadata",
  "kernelspec": {
   "display_name": "Python 3",
   "language": "python",
   "name": "python3"
  },
  "language_info": {
   "codemirror_mode": {
    "name": "ipython",
    "version": 3
   },
   "file_extension": ".py",
   "mimetype": "text/x-python",
   "name": "python",
   "nbconvert_exporter": "python",
   "pygments_lexer": "ipython3",
   "version": "3.7.11"
  }
 },
 "nbformat": 4,
 "nbformat_minor": 5
}