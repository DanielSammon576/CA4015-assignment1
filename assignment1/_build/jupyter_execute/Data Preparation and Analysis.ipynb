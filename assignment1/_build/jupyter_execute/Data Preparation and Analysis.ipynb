{
 "cells": [
  {
   "cell_type": "markdown",
   "id": "43880bfc",
   "metadata": {
    "tags": [
     "{",
     "\"tags\":",
     "[",
     "\"hide-input\"",
     "]",
     "}"
    ]
   },
   "source": [
    "# **Data Preparation and Analysis**"
   ]
  },
  {
   "cell_type": "markdown",
   "id": "9f9a040c",
   "metadata": {},
   "source": []
  },
  {
   "cell_type": "markdown",
   "id": "5754a35f",
   "metadata": {},
   "source": [
    "### **Introduction to Data**"
   ]
  },
  {
   "cell_type": "markdown",
   "id": "48bdb6a8",
   "metadata": {},
   "source": [
    "The data set at hand is divided into three different trials 95-trial, 100-trial and a 150-trial. There is three seperate csv files per trial. Let's take the 95-trial we have a csv file that records the participants choices, a csv file that records the participants losses and a csv file that records the participants winnings."
   ]
  },
  {
   "cell_type": "markdown",
   "id": "0f6ab363",
   "metadata": {},
   "source": [
    "As all of the data isn't gathered from one study it is in fact gathered from 10 seperate studies we are also given a fourth csv file which maps what study each participant took part in."
   ]
  },
  {
   "cell_type": "markdown",
   "id": "69bd3f9c",
   "metadata": {},
   "source": [
    "The studies differ in many ways from the size of the actual trials to the age demographics of the studies."
   ]
  },
  {
   "cell_type": "markdown",
   "id": "6ee0ef23",
   "metadata": {},
   "source": []
  },
  {
   "cell_type": "code",
   "execution_count": 1,
   "id": "da80de67",
   "metadata": {
    "tags": [
     "remove-output"
    ]
   },
   "outputs": [
    {
     "ename": "ModuleNotFoundError",
     "evalue": "No module named 'numpy'",
     "output_type": "error",
     "traceback": [
      "\u001b[1;31m---------------------------------------------------------------------------\u001b[0m",
      "\u001b[1;31mModuleNotFoundError\u001b[0m                       Traceback (most recent call last)",
      "\u001b[1;32m~\\AppData\\Local\\Temp/ipykernel_1308/2784781905.py\u001b[0m in \u001b[0;36m<module>\u001b[1;34m\u001b[0m\n\u001b[1;32m----> 1\u001b[1;33m \u001b[1;32mimport\u001b[0m \u001b[0mnumpy\u001b[0m \u001b[1;32mas\u001b[0m \u001b[0mnp\u001b[0m\u001b[1;33m\u001b[0m\u001b[1;33m\u001b[0m\u001b[0m\n\u001b[0m\u001b[0;32m      2\u001b[0m \u001b[1;32mimport\u001b[0m \u001b[0mpandas\u001b[0m \u001b[1;32mas\u001b[0m \u001b[0mpd\u001b[0m\u001b[1;33m\u001b[0m\u001b[1;33m\u001b[0m\u001b[0m\n\u001b[0;32m      3\u001b[0m \u001b[1;32mfrom\u001b[0m \u001b[0mscipy\u001b[0m\u001b[1;33m.\u001b[0m\u001b[0mstats\u001b[0m \u001b[1;32mimport\u001b[0m \u001b[0mnorm\u001b[0m\u001b[1;33m\u001b[0m\u001b[1;33m\u001b[0m\u001b[0m\n\u001b[0;32m      4\u001b[0m \u001b[1;32mimport\u001b[0m \u001b[0mseaborn\u001b[0m \u001b[1;32mas\u001b[0m \u001b[0msns\u001b[0m\u001b[1;33m\u001b[0m\u001b[1;33m\u001b[0m\u001b[0m\n\u001b[0;32m      5\u001b[0m \u001b[1;33m\u001b[0m\u001b[0m\n",
      "\u001b[1;31mModuleNotFoundError\u001b[0m: No module named 'numpy'"
     ]
    }
   ],
   "source": [
    "import numpy as np\n",
    "import pandas as pd\n",
    "from scipy.stats import norm\n",
    "import seaborn as sns\n",
    "\n",
    "import matplotlib.pyplot as plt\n",
    "\n",
    "from numpy import arange\n",
    "\n",
    "import sklearn\n",
    "from sklearn.cluster import KMeans\n",
    "from mpl_toolkits.mplot3d import Axes3D\n",
    "\n",
    "import sklearn.metrics as sm\n",
    "from sklearn.decomposition import PCA\n",
    "from sklearn import datasets\n",
    "from sklearn.metrics import confusion_matrix, classification_report"
   ]
  },
  {
   "cell_type": "code",
   "execution_count": 2,
   "id": "570f75de",
   "metadata": {
    "tags": [
     "remove-input"
    ]
   },
   "outputs": [],
   "source": [
    "#Focusing on 100 choices from 200 subjects as a first step\n",
    "choice95 = pd.read_csv('Data\\choice_95.csv')\n",
    "win95 = pd.read_csv('Data\\wi_95.csv')\n",
    "loss95 = pd.read_csv(\"Data\\lo_95.csv\")\n",
    "index95 = pd.read_csv(\"Data\\index_95.csv\")\n",
    "choice100 = pd.read_csv('Data\\choice_100.csv')\n",
    "win100 = pd.read_csv('Data\\wi_100.csv')\n",
    "loss100 = pd.read_csv(\"Data\\lo_100.csv\")\n",
    "index100 = pd.read_csv(\"Data\\index_100.csv\")\n",
    "choice150 = pd.read_csv('Data\\choice_150.csv')\n",
    "win150 = pd.read_csv('Data\\wi_150.csv')\n",
    "loss150 = pd.read_csv(\"Data\\lo_150.csv\")\n",
    "index150 = pd.read_csv(\"Data\\index_150.csv\")"
   ]
  },
  {
   "cell_type": "code",
   "execution_count": 3,
   "id": "0b75ccf6",
   "metadata": {
    "tags": [
     "remove-input"
    ]
   },
   "outputs": [],
   "source": [
    "zeros95 = loss95.isin([0]).sum(axis=1)\n",
    "zeros95 = pd.DataFrame(zeros95)\n",
    "zeros95.columns = [\"zeros\"]\n",
    "\n",
    "zeros100 = loss100.isin([0]).sum(axis=1)\n",
    "zeros100 = pd.DataFrame(zeros100)\n",
    "zeros100.columns = [\"zeros\"]\n",
    "\n",
    "zeros150 = loss150.isin([0]).sum(axis=1)\n",
    "zeros150 = pd.DataFrame(zeros150)\n",
    "zeros150.columns = [\"zeros\"]"
   ]
  },
  {
   "cell_type": "code",
   "execution_count": 4,
   "id": "747dab40",
   "metadata": {
    "scrolled": true,
    "tags": [
     "hide-input"
    ]
   },
   "outputs": [
    {
     "data": {
      "text/html": [
       "<div>\n",
       "<style scoped>\n",
       "    .dataframe tbody tr th:only-of-type {\n",
       "        vertical-align: middle;\n",
       "    }\n",
       "\n",
       "    .dataframe tbody tr th {\n",
       "        vertical-align: top;\n",
       "    }\n",
       "\n",
       "    .dataframe thead th {\n",
       "        text-align: right;\n",
       "    }\n",
       "</style>\n",
       "<table border=\"1\" class=\"dataframe\">\n",
       "  <thead>\n",
       "    <tr style=\"text-align: right;\">\n",
       "      <th></th>\n",
       "      <th>index</th>\n",
       "      <th>Total W</th>\n",
       "      <th>Total L</th>\n",
       "      <th>Study</th>\n",
       "      <th>Margin</th>\n",
       "      <th>count_zeros</th>\n",
       "    </tr>\n",
       "  </thead>\n",
       "  <tbody>\n",
       "    <tr>\n",
       "      <th>0</th>\n",
       "      <td>Subj_1</td>\n",
       "      <td>5800</td>\n",
       "      <td>-4650</td>\n",
       "      <td>Fridberg</td>\n",
       "      <td>1150</td>\n",
       "      <td>80</td>\n",
       "    </tr>\n",
       "    <tr>\n",
       "      <th>1</th>\n",
       "      <td>Subj_2</td>\n",
       "      <td>7250</td>\n",
       "      <td>-7925</td>\n",
       "      <td>Fridberg</td>\n",
       "      <td>-675</td>\n",
       "      <td>71</td>\n",
       "    </tr>\n",
       "    <tr>\n",
       "      <th>2</th>\n",
       "      <td>Subj_3</td>\n",
       "      <td>7100</td>\n",
       "      <td>-7850</td>\n",
       "      <td>Fridberg</td>\n",
       "      <td>-750</td>\n",
       "      <td>76</td>\n",
       "    </tr>\n",
       "    <tr>\n",
       "      <th>3</th>\n",
       "      <td>Subj_4</td>\n",
       "      <td>7000</td>\n",
       "      <td>-7525</td>\n",
       "      <td>Fridberg</td>\n",
       "      <td>-525</td>\n",
       "      <td>76</td>\n",
       "    </tr>\n",
       "    <tr>\n",
       "      <th>4</th>\n",
       "      <td>Subj_5</td>\n",
       "      <td>6450</td>\n",
       "      <td>-6350</td>\n",
       "      <td>Fridberg</td>\n",
       "      <td>100</td>\n",
       "      <td>76</td>\n",
       "    </tr>\n",
       "  </tbody>\n",
       "</table>\n",
       "</div>"
      ],
      "text/plain": [
       "    index  Total W  Total L     Study  Margin  count_zeros\n",
       "0  Subj_1     5800    -4650  Fridberg    1150           80\n",
       "1  Subj_2     7250    -7925  Fridberg    -675           71\n",
       "2  Subj_3     7100    -7850  Fridberg    -750           76\n",
       "3  Subj_4     7000    -7525  Fridberg    -525           76\n",
       "4  Subj_5     6450    -6350  Fridberg     100           76"
      ]
     },
     "execution_count": 4,
     "metadata": {},
     "output_type": "execute_result"
    }
   ],
   "source": [
    "df95 = pd.DataFrame()\n",
    "df100 = pd.DataFrame()\n",
    "df150 = pd.DataFrame()\n",
    "\n",
    "df95[\"Total W\"] = win95.sum(axis=1)\n",
    "df95[\"Total L\"] = loss95.sum(axis=1)\n",
    "\n",
    "df100[\"Total W\"] = win100.sum(axis=1)\n",
    "df100[\"Total L\"] = loss100.sum(axis=1)\n",
    "\n",
    "df150[\"Total W\"] = win150.sum(axis=1)\n",
    "df150[\"Total L\"] = loss150.sum(axis=1)\n",
    "\n",
    "df95.reset_index(inplace=True)\n",
    "df100.reset_index(inplace=True)\n",
    "df150.reset_index(inplace=True)\n",
    "\n",
    "df95[\"Study\"] = index95[\"Study\"].values\n",
    "df100[\"Study\"] = index100[\"Study\"].values\n",
    "df150[\"Study\"] = index150[\"Study\"].values\n",
    "\n",
    "df95[\"Margin\"] = df95[\"Total W\"] + df95[\"Total L\"]\n",
    "df100[\"Margin\"] = df100[\"Total W\"] + df100[\"Total L\"]\n",
    "df150[\"Margin\"] = df150[\"Total W\"] + df150[\"Total L\"]\n",
    "\n",
    "df95[\"count_zeros\"] = zeros95[\"zeros\"].values\n",
    "df100[\"count_zeros\"] = zeros100[\"zeros\"].values\n",
    "df150[\"count_zeros\"] = zeros150[\"zeros\"].values\n",
    "\n",
    "df95.size + df100.size + df150.size #2468\n",
    "\n",
    "final = pd.DataFrame()\n",
    "alternative = pd.DataFrame()\n",
    "alternative = df95.append(df100)\n",
    "final = alternative.append(df150)\n",
    "final.size #2468\n",
    "final.head()"
   ]
  },
  {
   "cell_type": "markdown",
   "id": "948150c5",
   "metadata": {},
   "source": [
    "### **Data visualisation**"
   ]
  },
  {
   "cell_type": "code",
   "execution_count": 5,
   "id": "3c2fa0d2",
   "metadata": {
    "scrolled": true
   },
   "outputs": [
    {
     "data": {
      "text/plain": [
       "<matplotlib.legend.Legend at 0x1faa3c7d1f0>"
      ]
     },
     "execution_count": 5,
     "metadata": {},
     "output_type": "execute_result"
    },
    {
     "data": {
      "image/png": "[encoded data removed]",
      "text/plain": [
       "<Figure size 432x288 with 1 Axes>"
      ]
     },
     "metadata": {
      "filenames": {
       "image/png": "C:\\daniel\\ca4015\\assignment1\\_build\\jupyter_execute\\Data Preparation and Analysis_12_1.png"
      },
      "needs_background": "light"
     },
     "output_type": "display_data"
    }
   ],
   "source": [
    "sns.scatterplot(data=final, x=\"Total W\", y=\"Total L\", hue=\"Study\")\n",
    "plt.legend(bbox_to_anchor=(1.02, 1), loc='upper left', borderaxespad=0)"
   ]
  },
  {
   "cell_type": "code",
   "execution_count": 6,
   "id": "e00add6c",
   "metadata": {},
   "outputs": [
    {
     "name": "stderr",
     "output_type": "stream",
     "text": [
      "No handles with labels found to put in legend.\n"
     ]
    },
    {
     "data": {
      "text/plain": [
       "(array([0, 1, 2, 3, 4, 5, 6, 7, 8, 9]),\n",
       " [Text(0, 0, 'Fridberg'),\n",
       "  Text(1, 0, 'Horstmann'),\n",
       "  Text(2, 0, 'Kjome'),\n",
       "  Text(3, 0, 'Maia'),\n",
       "  Text(4, 0, 'SteingroverInPrep'),\n",
       "  Text(5, 0, 'Premkumar'),\n",
       "  Text(6, 0, 'Wood'),\n",
       "  Text(7, 0, 'Worthy'),\n",
       "  Text(8, 0, 'Steingroever2011'),\n",
       "  Text(9, 0, 'Wetzels')])"
      ]
     },
     "execution_count": 6,
     "metadata": {},
     "output_type": "execute_result"
    },
    {
     "data": {
      "image/png": "[encoded data removed]",
      "text/plain": [
       "<Figure size 432x288 with 1 Axes>"
      ]
     },
     "metadata": {
      "filenames": {
       "image/png": "C:\\daniel\\ca4015\\assignment1\\_build\\jupyter_execute\\Data Preparation and Analysis_13_2.png"
      },
      "needs_background": "light"
     },
     "output_type": "display_data"
    }
   ],
   "source": [
    "sns.barplot(x=\"Study\", y=\"Margin\", data=final)\n",
    "plt.legend(bbox_to_anchor=(1.02, 1), loc='upper left', borderaxespad=0)\n",
    "plt.xticks(rotation=45)"
   ]
  },
  {
   "cell_type": "markdown",
   "id": "923782a3",
   "metadata": {},
   "source": [
    "### **Observations**"
   ]
  },
  {
   "cell_type": "markdown",
   "id": "60e09133",
   "metadata": {},
   "source": [
    "From my above data analysis I can see that one study in particular whose margins were surprising. The Wood study in both graphs shows that participants were making considerable losses. Upon inspection this study was ran on two different groups of people. The first 90 participants were between the ages of 18-40 with the remaining 62 participants between the ages of 61-88. My proposal is to look at the difference between the two age groups and see whether the younger participants were quicker to identify the beneficial cards."
   ]
  },
  {
   "cell_type": "code",
   "execution_count": 7,
   "id": "cebdd5fd",
   "metadata": {
    "tags": [
     "remove-input"
    ]
   },
   "outputs": [],
   "source": [
    "choice_new = choice100.apply(pd.Series.value_counts, axis=1)\n",
    "choice_new.columns = [\"A\", \"B\", \"C\", \"D\"]\n",
    "choice_new.fillna(value = 0, inplace = True)\n",
    "choice_new.A = choice_new.A.astype(int)\n",
    "choice_new.B = choice_new.B.astype(int)\n",
    "choice_new.C = choice_new.C.astype(int)\n",
    "choice_new.D = choice_new.D.astype(int)\n",
    "choice_new[\"Study\"] = index100[\"Study\"].values"
   ]
  },
  {
   "cell_type": "code",
   "execution_count": 8,
   "id": "648b2902",
   "metadata": {
    "tags": [
     "remove-input"
    ]
   },
   "outputs": [],
   "source": [
    "choice_new[\"Total-B/D\"] = choice_new[\"B\"] + choice_new[\"D\"]"
   ]
  },
  {
   "cell_type": "code",
   "execution_count": 9,
   "id": "dbc340d0",
   "metadata": {
    "tags": [
     "remove-input"
    ]
   },
   "outputs": [],
   "source": [
    "young = choice_new[0:91]\n",
    "a = young[\"A\"].sum()\n",
    "b = young[\"B\"].sum()\n",
    "c = young[\"C\"].sum()\n",
    "d = young[\"D\"].sum()\n",
    "\n",
    "\n",
    "data = [{'A': a, 'B': b, 'C':c, \"D\":d}]\n",
    "young_stats = pd.DataFrame(data)\n",
    "young_stats = young_stats.rename(index={0: 'Counts'})"
   ]
  },
  {
   "cell_type": "code",
   "execution_count": 10,
   "id": "c5f5e02b",
   "metadata": {
    "tags": [
     "remove-input"
    ]
   },
   "outputs": [],
   "source": [
    "old = choice_new[91:]\n",
    "a = old[\"A\"].sum()\n",
    "b = old[\"B\"].sum()\n",
    "c = old[\"C\"].sum()\n",
    "d = old[\"D\"].sum()\n",
    "\n",
    "data = [{'A': a, 'B': b, 'C':c, \"D\":d}]\n",
    "old_stats = pd.DataFrame(data)\n",
    "old_stats = old_stats.rename(index={0: 'Counts'})"
   ]
  },
  {
   "cell_type": "code",
   "execution_count": 11,
   "id": "b5d9057c",
   "metadata": {
    "tags": [
     "remove-input"
    ]
   },
   "outputs": [],
   "source": [
    "win100['Total'] = win100.sum(axis=1)\n",
    "loss100['Total'] = loss100.sum(axis=1)"
   ]
  },
  {
   "cell_type": "markdown",
   "id": "c9524390",
   "metadata": {},
   "source": []
  },
  {
   "cell_type": "markdown",
   "id": "eb135a15",
   "metadata": {},
   "source": [
    "The subject dataframe I will use to cluster only the Wood study. This study was ran on two seperate groups with different ages so will hopefully provide interesting results."
   ]
  },
  {
   "cell_type": "code",
   "execution_count": 12,
   "id": "d31030fa",
   "metadata": {
    "tags": [
     "hide-input"
    ]
   },
   "outputs": [
    {
     "name": "stdout",
     "output_type": "stream",
     "text": [
      "Subject dataframe\n"
     ]
    },
    {
     "data": {
      "text/html": [
       "<div>\n",
       "<style scoped>\n",
       "    .dataframe tbody tr th:only-of-type {\n",
       "        vertical-align: middle;\n",
       "    }\n",
       "\n",
       "    .dataframe tbody tr th {\n",
       "        vertical-align: top;\n",
       "    }\n",
       "\n",
       "    .dataframe thead th {\n",
       "        text-align: right;\n",
       "    }\n",
       "</style>\n",
       "<table border=\"1\" class=\"dataframe\">\n",
       "  <thead>\n",
       "    <tr style=\"text-align: right;\">\n",
       "      <th></th>\n",
       "      <th>Subjects</th>\n",
       "      <th>Difference</th>\n",
       "      <th>Total-B/D</th>\n",
       "      <th>Study</th>\n",
       "      <th>AgeProfile</th>\n",
       "    </tr>\n",
       "  </thead>\n",
       "  <tbody>\n",
       "    <tr>\n",
       "      <th>316</th>\n",
       "      <td>Subj_317</td>\n",
       "      <td>-320</td>\n",
       "      <td>56.0</td>\n",
       "      <td>Wood</td>\n",
       "      <td>Young</td>\n",
       "    </tr>\n",
       "    <tr>\n",
       "      <th>317</th>\n",
       "      <td>Subj_318</td>\n",
       "      <td>-1030</td>\n",
       "      <td>63.0</td>\n",
       "      <td>Wood</td>\n",
       "      <td>Young</td>\n",
       "    </tr>\n",
       "    <tr>\n",
       "      <th>318</th>\n",
       "      <td>Subj_319</td>\n",
       "      <td>-1850</td>\n",
       "      <td>59.0</td>\n",
       "      <td>Wood</td>\n",
       "      <td>Young</td>\n",
       "    </tr>\n",
       "    <tr>\n",
       "      <th>319</th>\n",
       "      <td>Subj_320</td>\n",
       "      <td>-775</td>\n",
       "      <td>54.0</td>\n",
       "      <td>Wood</td>\n",
       "      <td>Young</td>\n",
       "    </tr>\n",
       "    <tr>\n",
       "      <th>320</th>\n",
       "      <td>Subj_321</td>\n",
       "      <td>-1600</td>\n",
       "      <td>65.0</td>\n",
       "      <td>Wood</td>\n",
       "      <td>Young</td>\n",
       "    </tr>\n",
       "    <tr>\n",
       "      <th>321</th>\n",
       "      <td>Subj_322</td>\n",
       "      <td>-550</td>\n",
       "      <td>52.0</td>\n",
       "      <td>Wood</td>\n",
       "      <td>Young</td>\n",
       "    </tr>\n",
       "    <tr>\n",
       "      <th>322</th>\n",
       "      <td>Subj_323</td>\n",
       "      <td>-2210</td>\n",
       "      <td>63.0</td>\n",
       "      <td>Wood</td>\n",
       "      <td>Young</td>\n",
       "    </tr>\n",
       "    <tr>\n",
       "      <th>323</th>\n",
       "      <td>Subj_324</td>\n",
       "      <td>-450</td>\n",
       "      <td>53.0</td>\n",
       "      <td>Wood</td>\n",
       "      <td>Young</td>\n",
       "    </tr>\n",
       "    <tr>\n",
       "      <th>324</th>\n",
       "      <td>Subj_325</td>\n",
       "      <td>590</td>\n",
       "      <td>60.0</td>\n",
       "      <td>Wood</td>\n",
       "      <td>Young</td>\n",
       "    </tr>\n",
       "    <tr>\n",
       "      <th>325</th>\n",
       "      <td>Subj_326</td>\n",
       "      <td>-380</td>\n",
       "      <td>66.0</td>\n",
       "      <td>Wood</td>\n",
       "      <td>Young</td>\n",
       "    </tr>\n",
       "  </tbody>\n",
       "</table>\n",
       "</div>"
      ],
      "text/plain": [
       "     Subjects  Difference  Total-B/D Study AgeProfile\n",
       "316  Subj_317        -320       56.0  Wood      Young\n",
       "317  Subj_318       -1030       63.0  Wood      Young\n",
       "318  Subj_319       -1850       59.0  Wood      Young\n",
       "319  Subj_320        -775       54.0  Wood      Young\n",
       "320  Subj_321       -1600       65.0  Wood      Young\n",
       "321  Subj_322        -550       52.0  Wood      Young\n",
       "322  Subj_323       -2210       63.0  Wood      Young\n",
       "323  Subj_324        -450       53.0  Wood      Young\n",
       "324  Subj_325         590       60.0  Wood      Young\n",
       "325  Subj_326        -380       66.0  Wood      Young"
      ]
     },
     "execution_count": 12,
     "metadata": {},
     "output_type": "execute_result"
    }
   ],
   "source": [
    "subject = pd.DataFrame(columns=[\"Subjects\"])\n",
    "subject[\"Subjects\"] = win100.index\n",
    "subject[\"Difference\"] = win100[\"Total\"].values + loss100[\"Total\"].values\n",
    "subject[\"Total-B/D\"] = choice_new[\"Total-B/D\"].values/100 * 100\n",
    "subject[\"Study\"] = index100[\"Study\"].values\n",
    "subject = subject[subject.Study == \"Wood\"]\n",
    "subject[\"AgeProfile\"] = \"\"\n",
    "subject.AgeProfile.values[:91] = \"Young\"\n",
    "subject.AgeProfile.values[91:] = \"Old\"\n",
    "print(\"Subject dataframe\")\n",
    "subject.head(10)"
   ]
  },
  {
   "cell_type": "markdown",
   "id": "79e6a496",
   "metadata": {},
   "source": [
    "The dataset had a larger representation of younger people, using the dataframe above I will inspect the difference between younger and older both in profit margins and how quick the two age groups were to realise that some cards are more benficial then others. I use different analysis techniques including scatter graphs and k-means clustering to evaluate this hypothesis."
   ]
  },
  {
   "cell_type": "code",
   "execution_count": 13,
   "id": "1a98ab90",
   "metadata": {},
   "outputs": [],
   "source": [
    "#This is the dataset that we will be using for our clustering of the wood study\n",
    "subject.to_csv(\"Data/clustering.csv\")\n",
    "\n",
    "#This is the dataset we will be using for the whole study clustering\n",
    "final.to_csv(\"Data/whole_clustering.csv\")"
   ]
  }
 ],
 "metadata": {
  "kernelspec": {
   "display_name": "Python 3",
   "language": "python",
   "name": "python3"
  },
  "language_info": {
   "codemirror_mode": {
    "name": "ipython",
    "version": 3
   },
   "file_extension": ".py",
   "mimetype": "text/x-python",
   "name": "python",
   "nbconvert_exporter": "python",
   "pygments_lexer": "ipython3",
   "version": "3.7.11"
  }
 },
 "nbformat": 4,
 "nbformat_minor": 5
}