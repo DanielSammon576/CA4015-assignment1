{
 "cells": [
  {
   "cell_type": "markdown",
   "id": "8e746620",
   "metadata": {},
   "source": [
    "# **Data Analysis**"
   ]
  },
  {
   "cell_type": "markdown",
   "id": "76c5f22a",
   "metadata": {},
   "source": []
  },
  {
   "cell_type": "markdown",
   "id": "dedfca92",
   "metadata": {},
   "source": [
    "### Introduction to Data"
   ]
  },
  {
   "cell_type": "markdown",
   "id": "cfe3b9d2",
   "metadata": {},
   "source": [
    "The data set at hand is divided into three different trials 95-trial, 100-trial and a 150-trial. There is three seperate csv files per trial. Let's take the 95-trial we have a csv file that records the participants choices, a csv file that records the participants losses and a csv file that records the participants winnings."
   ]
  },
  {
   "cell_type": "markdown",
   "id": "9d4924d7",
   "metadata": {},
   "source": [
    "As all of the data isn't gathered from one study it is in fact gathered from 10 seperate studies we are also given a fourth csv file which maps what study each participant took part in."
   ]
  },
  {
   "cell_type": "markdown",
   "id": "a237e724",
   "metadata": {},
   "source": [
    "The studies differ in many ways from the size of the actual trials to the age demographics of the studies."
   ]
  },
  {
   "cell_type": "markdown",
   "id": "4b8877bf",
   "metadata": {},
   "source": []
  },
  {
   "cell_type": "markdown",
   "id": "8aaa2248",
   "metadata": {},
   "source": [
    "### Is there a difference between younger/older mean population?"
   ]
  },
  {
   "cell_type": "markdown",
   "id": "b4336865",
   "metadata": {},
   "source": [
    "For my research I am going to take a deeper look at the clustering between two studies, the studies differ in one main way in that the mean ages of the two studies are X and X respectively."
   ]
  },
  {
   "cell_type": "code",
   "execution_count": null,
   "id": "a0f9d91c",
   "metadata": {},
   "outputs": [],
   "source": []
  },
  {
   "cell_type": "code",
   "execution_count": null,
   "id": "7590c916",
   "metadata": {},
   "outputs": [],
   "source": []
  },
  {
   "cell_type": "code",
   "execution_count": null,
   "id": "a8c22ffb",
   "metadata": {},
   "outputs": [],
   "source": []
  }
 ],
 "metadata": {
  "kernelspec": {
   "display_name": "Python 3",
   "language": "python",
   "name": "python3"
  },
  "language_info": {
   "codemirror_mode": {
    "name": "ipython",
    "version": 3
   },
   "file_extension": ".py",
   "mimetype": "text/x-python",
   "name": "python",
   "nbconvert_exporter": "python",
   "pygments_lexer": "ipython3",
   "version": "3.7.11"
  }
 },
 "nbformat": 4,
 "nbformat_minor": 5
}