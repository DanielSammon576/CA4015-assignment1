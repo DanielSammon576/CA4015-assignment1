{
 "cells": [
  {
   "cell_type": "markdown",
   "id": "2e089478",
   "metadata": {},
   "source": [
    "# **Iowa Gambling Task**"
   ]
  },
  {
   "cell_type": "markdown",
   "id": "02a197c1",
   "metadata": {},
   "source": [
    "### **Introduction**"
   ]
  },
  {
   "cell_type": "markdown",
   "id": "950ed126",
   "metadata": {},
   "source": [
    "The main idea behind the Iowa Gambling Task is test participants decision making using four cards. The participants taking part in the game have a choice of four cards (A,B,C,D) depending on the card choosen and chance the participants can gain or lose money."
   ]
  },
  {
   "cell_type": "markdown",
   "id": "7f368525",
   "metadata": {},
   "source": []
  },
  {
   "cell_type": "markdown",
   "id": "3aa03ebe",
   "metadata": {},
   "source": [
    "![](https://www.online-casinos.com/wp-content/uploads/2019/11/iowa-gambling-task-setup.jpg)"
   ]
  },
  {
   "cell_type": "markdown",
   "id": "053fc053",
   "metadata": {},
   "source": [
    ":::{Note}\n",
    "The task was originally developed to detect problems that participants may have been having with their ventromedial prefrontal cortex\n",
    ":::\n"
   ]
  },
  {
   "cell_type": "markdown",
   "id": "d35d4a1f",
   "metadata": {},
   "source": [
    "Each deck has a different probability of winning/losing. This means that there is one deck either {A,B,C,D} that is more favourable to the participants than the others. The idea behind the game is that depending on how one plays the game allows the observer to figure out psychological attributes that they might have."
   ]
  },
  {
   "cell_type": "markdown",
   "id": "639656b6",
   "metadata": {},
   "source": []
  },
  {
   "cell_type": "markdown",
   "id": "9c0edf06",
   "metadata": {},
   "source": [
    "### **Clustering Techniques**"
   ]
  },
  {
   "cell_type": "markdown",
   "id": "f1fddafd",
   "metadata": {},
   "source": [
    "For the purpose of this assignment I will be focusing mainly on the k-means clustering technique. K-means aims at partitioning x abservations into y clusters where each cluster is calculated based on a common mean."
   ]
  },
  {
   "cell_type": "code",
   "execution_count": null,
   "id": "8ccf0abf",
   "metadata": {},
   "outputs": [],
   "source": []
  },
  {
   "cell_type": "code",
   "execution_count": null,
   "id": "d329e933",
   "metadata": {},
   "outputs": [],
   "source": []
  },
  {
   "cell_type": "code",
   "execution_count": null,
   "id": "09c04bbc",
   "metadata": {},
   "outputs": [],
   "source": []
  },
  {
   "cell_type": "code",
   "execution_count": null,
   "id": "23fe37af",
   "metadata": {},
   "outputs": [],
   "source": []
  },
  {
   "cell_type": "code",
   "execution_count": null,
   "id": "a3b833d3",
   "metadata": {},
   "outputs": [],
   "source": []
  }
 ],
 "metadata": {
  "kernelspec": {
   "display_name": "Python 3",
   "language": "python",
   "name": "python3"
  },
  "language_info": {
   "codemirror_mode": {
    "name": "ipython",
    "version": 3
   },
   "file_extension": ".py",
   "mimetype": "text/x-python",
   "name": "python",
   "nbconvert_exporter": "python",
   "pygments_lexer": "ipython3",
   "version": "3.8.8"
  }
 },
 "nbformat": 4,
 "nbformat_minor": 5
}
