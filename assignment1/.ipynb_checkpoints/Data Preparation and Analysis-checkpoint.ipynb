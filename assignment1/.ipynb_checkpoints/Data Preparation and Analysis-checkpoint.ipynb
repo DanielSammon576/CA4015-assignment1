{
 "cells": [
  {
   "cell_type": "markdown",
   "id": "43880bfc",
   "metadata": {
    "tags": [
     "{",
     "\"tags\":",
     "[",
     "\"hide-input\"",
     "]",
     "}"
    ]
   },
   "source": [
    "# **Data Preparation and Analysis**"
   ]
  },
  {
   "cell_type": "markdown",
   "id": "9f9a040c",
   "metadata": {},
   "source": []
  },
  {
   "cell_type": "markdown",
   "id": "5754a35f",
   "metadata": {},
   "source": [
    "### **Introduction to Data**"
   ]
  },
  {
   "cell_type": "markdown",
   "id": "48bdb6a8",
   "metadata": {},
   "source": [
    "The data set at hand is divided into three different trials 95-trial, 100-trial and a 150-trial. There is three seperate csv files per trial. Let's take the 95-trial we have a csv file that records the participants choices, a csv file that records the participants losses and a csv file that records the participants winnings."
   ]
  },
  {
   "cell_type": "markdown",
   "id": "0f6ab363",
   "metadata": {},
   "source": [
    "As all of the data isn't gathered from one study it is in fact gathered from 10 seperate studies we are also given a fourth csv file which maps what study each participant took part in."
   ]
  },
  {
   "cell_type": "markdown",
   "id": "69bd3f9c",
   "metadata": {},
   "source": [
    "The studies differ in many ways from the size of the actual trials to the age demographics of the studies."
   ]
  },
  {
   "cell_type": "markdown",
   "id": "6ee0ef23",
   "metadata": {},
   "source": []
  },
  {
   "cell_type": "code",
   "execution_count": 1,
   "id": "da80de67",
   "metadata": {
    "hide_input": true
   },
   "outputs": [],
   "source": [
    "import numpy as np\n",
    "import pandas as pd\n",
    "from scipy.stats import norm\n",
    "import seaborn as sns\n",
    "\n",
    "import matplotlib.pyplot as plt\n",
    "\n",
    "from numpy import arange\n",
    "\n",
    "import sklearn\n",
    "from sklearn.cluster import KMeans\n",
    "from mpl_toolkits.mplot3d import Axes3D\n",
    "\n",
    "import sklearn.metrics as sm\n",
    "from sklearn.decomposition import PCA\n",
    "from sklearn import datasets\n",
    "from sklearn.metrics import confusion_matrix, classification_report"
   ]
  },
  {
   "cell_type": "code",
   "execution_count": 2,
   "id": "570f75de",
   "metadata": {},
   "outputs": [],
   "source": [
    "#Focusing on 100 choices from 200 subjects as a first step\n",
    "choice95 = pd.read_csv('Data\\choice_95.csv')\n",
    "win95 = pd.read_csv('Data\\wi_95.csv')\n",
    "loss95 = pd.read_csv(\"Data\\lo_95.csv\")\n",
    "index95 = pd.read_csv(\"Data\\index_95.csv\")\n",
    "choice100 = pd.read_csv('Data\\choice_100.csv')\n",
    "win100 = pd.read_csv('Data\\wi_100.csv')\n",
    "loss100 = pd.read_csv(\"Data\\lo_100.csv\")\n",
    "index100 = pd.read_csv(\"Data\\index_100.csv\")\n",
    "choice150 = pd.read_csv('Data\\choice_150.csv')\n",
    "win150 = pd.read_csv('Data\\wi_150.csv')\n",
    "loss150 = pd.read_csv(\"Data\\lo_150.csv\")\n",
    "index150 = pd.read_csv(\"Data\\index_150.csv\")"
   ]
  },
  {
   "cell_type": "code",
   "execution_count": 3,
   "id": "747dab40",
   "metadata": {
    "hide_input": true
   },
   "outputs": [
    {
     "data": {
      "text/html": [
       "<div>\n",
       "<style scoped>\n",
       "    .dataframe tbody tr th:only-of-type {\n",
       "        vertical-align: middle;\n",
       "    }\n",
       "\n",
       "    .dataframe tbody tr th {\n",
       "        vertical-align: top;\n",
       "    }\n",
       "\n",
       "    .dataframe thead th {\n",
       "        text-align: right;\n",
       "    }\n",
       "</style>\n",
       "<table border=\"1\" class=\"dataframe\">\n",
       "  <thead>\n",
       "    <tr style=\"text-align: right;\">\n",
       "      <th></th>\n",
       "      <th>index</th>\n",
       "      <th>Total W</th>\n",
       "      <th>Total L</th>\n",
       "      <th>Study</th>\n",
       "      <th>Margin</th>\n",
       "    </tr>\n",
       "  </thead>\n",
       "  <tbody>\n",
       "    <tr>\n",
       "      <th>0</th>\n",
       "      <td>Subj_1</td>\n",
       "      <td>5800</td>\n",
       "      <td>-4650</td>\n",
       "      <td>Fridberg</td>\n",
       "      <td>1150</td>\n",
       "    </tr>\n",
       "    <tr>\n",
       "      <th>1</th>\n",
       "      <td>Subj_2</td>\n",
       "      <td>7250</td>\n",
       "      <td>-7925</td>\n",
       "      <td>Fridberg</td>\n",
       "      <td>-675</td>\n",
       "    </tr>\n",
       "    <tr>\n",
       "      <th>2</th>\n",
       "      <td>Subj_3</td>\n",
       "      <td>7100</td>\n",
       "      <td>-7850</td>\n",
       "      <td>Fridberg</td>\n",
       "      <td>-750</td>\n",
       "    </tr>\n",
       "    <tr>\n",
       "      <th>3</th>\n",
       "      <td>Subj_4</td>\n",
       "      <td>7000</td>\n",
       "      <td>-7525</td>\n",
       "      <td>Fridberg</td>\n",
       "      <td>-525</td>\n",
       "    </tr>\n",
       "    <tr>\n",
       "      <th>4</th>\n",
       "      <td>Subj_5</td>\n",
       "      <td>6450</td>\n",
       "      <td>-6350</td>\n",
       "      <td>Fridberg</td>\n",
       "      <td>100</td>\n",
       "    </tr>\n",
       "  </tbody>\n",
       "</table>\n",
       "</div>"
      ],
      "text/plain": [
       "    index  Total W  Total L     Study  Margin\n",
       "0  Subj_1     5800    -4650  Fridberg    1150\n",
       "1  Subj_2     7250    -7925  Fridberg    -675\n",
       "2  Subj_3     7100    -7850  Fridberg    -750\n",
       "3  Subj_4     7000    -7525  Fridberg    -525\n",
       "4  Subj_5     6450    -6350  Fridberg     100"
      ]
     },
     "execution_count": 3,
     "metadata": {},
     "output_type": "execute_result"
    }
   ],
   "source": [
    "df95 = pd.DataFrame()\n",
    "df100 = pd.DataFrame()\n",
    "df150 = pd.DataFrame()\n",
    "\n",
    "df95[\"Total W\"] = win95.sum(axis=1)\n",
    "df95[\"Total L\"] = loss95.sum(axis=1)\n",
    "\n",
    "df100[\"Total W\"] = win100.sum(axis=1)\n",
    "df100[\"Total L\"] = loss100.sum(axis=1)\n",
    "\n",
    "df150[\"Total W\"] = win150.sum(axis=1)\n",
    "df150[\"Total L\"] = loss150.sum(axis=1)\n",
    "\n",
    "df95.reset_index(inplace=True)\n",
    "df100.reset_index(inplace=True)\n",
    "df150.reset_index(inplace=True)\n",
    "\n",
    "df95[\"Study\"] = index95[\"Study\"].values\n",
    "df100[\"Study\"] = index100[\"Study\"].values\n",
    "df150[\"Study\"] = index150[\"Study\"].values\n",
    "\n",
    "df95[\"Margin\"] = df95[\"Total W\"] + df95[\"Total L\"]\n",
    "df100[\"Margin\"] = df100[\"Total W\"] + df100[\"Total L\"]\n",
    "df150[\"Margin\"] = df150[\"Total W\"] + df150[\"Total L\"]\n",
    "\n",
    "df95.size + df100.size + df150.size #2468\n",
    "\n",
    "final = pd.DataFrame()\n",
    "alternative = pd.DataFrame()\n",
    "alternative = df95.append(df100)\n",
    "final = alternative.append(df150)\n",
    "final.size #2468\n",
    "final.to_csv(\"Data/whole_clustering.csv\")\n",
    "final.head()"
   ]
  },
  {
   "cell_type": "code",
   "execution_count": 4,
   "id": "3c2fa0d2",
   "metadata": {
    "scrolled": true
   },
   "outputs": [
    {
     "data": {
      "text/plain": [
       "<matplotlib.legend.Legend at 0x1c0bda0adf0>"
      ]
     },
     "execution_count": 4,
     "metadata": {},
     "output_type": "execute_result"
    },
    {
     "data": {
      "image/png": "[encoded data removed]",
      "text/plain": [
       "<Figure size 432x288 with 1 Axes>"
      ]
     },
     "metadata": {
      "needs_background": "light"
     },
     "output_type": "display_data"
    }
   ],
   "source": [
    "sns.scatterplot(data=final, x=\"Total W\", y=\"Total L\", hue=\"Study\")\n",
    "plt.legend(bbox_to_anchor=(1.02, 1), loc='upper left', borderaxespad=0)"
   ]
  },
  {
   "cell_type": "code",
   "execution_count": 5,
   "id": "e00add6c",
   "metadata": {},
   "outputs": [
    {
     "name": "stderr",
     "output_type": "stream",
     "text": [
      "No handles with labels found to put in legend.\n"
     ]
    },
    {
     "data": {
      "text/plain": [
       "(array([0, 1, 2, 3, 4, 5, 6, 7, 8, 9]),\n",
       " [Text(0, 0, 'Fridberg'),\n",
       "  Text(1, 0, 'Horstmann'),\n",
       "  Text(2, 0, 'Kjome'),\n",
       "  Text(3, 0, 'Maia'),\n",
       "  Text(4, 0, 'SteingroverInPrep'),\n",
       "  Text(5, 0, 'Premkumar'),\n",
       "  Text(6, 0, 'Wood'),\n",
       "  Text(7, 0, 'Worthy'),\n",
       "  Text(8, 0, 'Steingroever2011'),\n",
       "  Text(9, 0, 'Wetzels')])"
      ]
     },
     "execution_count": 5,
     "metadata": {},
     "output_type": "execute_result"
    },
    {
     "data": {
      "image/png": "[encoded data removed]",
      "text/plain": [
       "<Figure size 432x288 with 1 Axes>"
      ]
     },
     "metadata": {
      "needs_background": "light"
     },
     "output_type": "display_data"
    }
   ],
   "source": [
    "sns.barplot(x=\"Study\", y=\"Margin\", data=final)\n",
    "plt.legend(bbox_to_anchor=(1.02, 1), loc='upper left', borderaxespad=0)\n",
    "plt.xticks(rotation=45)"
   ]
  },
  {
   "cell_type": "markdown",
   "id": "60e09133",
   "metadata": {},
   "source": [
    "From my above data analysis I can see that one study in particular whose margins were surprising. The Wood study in both graphs shows that participants were making considerable losses. Upon inspection this study was ran on two different groups of people. The first 90 participants were between the ages of 18-40 with the remaining 62 participants between the ages of 61-88. My proposal is to look at the difference between the two age groups and see whether the younger participants were quicker to identify the beneficial cards."
   ]
  },
  {
   "cell_type": "code",
   "execution_count": 6,
   "id": "cebdd5fd",
   "metadata": {
    "hide_input": true,
    "tags": [
     "{",
     "\"tags\":",
     "[",
     "\"hide-input\"",
     "]",
     "}"
    ]
   },
   "outputs": [],
   "source": [
    "choice_new = choice100.apply(pd.Series.value_counts, axis=1)\n",
    "choice_new.columns = [\"A\", \"B\", \"C\", \"D\"]\n",
    "choice_new.fillna(value = 0, inplace = True)\n",
    "choice_new.A = choice_new.A.astype(int)\n",
    "choice_new.B = choice_new.B.astype(int)\n",
    "choice_new.C = choice_new.C.astype(int)\n",
    "choice_new.D = choice_new.D.astype(int)\n",
    "choice_new[\"Study\"] = index100[\"Study\"].values"
   ]
  },
  {
   "cell_type": "code",
   "execution_count": 7,
   "id": "648b2902",
   "metadata": {
    "hide_input": false
   },
   "outputs": [],
   "source": [
    "choice_new[\"Total-B/D\"] = choice_new[\"B\"] + choice_new[\"D\"]"
   ]
  },
  {
   "cell_type": "code",
   "execution_count": 8,
   "id": "dbc340d0",
   "metadata": {
    "hide_input": true
   },
   "outputs": [],
   "source": [
    "young = choice_new[0:91]\n",
    "a = young[\"A\"].sum()\n",
    "b = young[\"B\"].sum()\n",
    "c = young[\"C\"].sum()\n",
    "d = young[\"D\"].sum()\n",
    "\n",
    "\n",
    "data = [{'A': a, 'B': b, 'C':c, \"D\":d}]\n",
    "young_stats = pd.DataFrame(data)\n",
    "young_stats = young_stats.rename(index={0: 'Counts'})"
   ]
  },
  {
   "cell_type": "code",
   "execution_count": 9,
   "id": "c5f5e02b",
   "metadata": {
    "hide_input": true
   },
   "outputs": [],
   "source": [
    "old = choice_new[91:]\n",
    "a = old[\"A\"].sum()\n",
    "b = old[\"B\"].sum()\n",
    "c = old[\"C\"].sum()\n",
    "d = old[\"D\"].sum()\n",
    "\n",
    "data = [{'A': a, 'B': b, 'C':c, \"D\":d}]\n",
    "old_stats = pd.DataFrame(data)\n",
    "old_stats = old_stats.rename(index={0: 'Counts'})"
   ]
  },
  {
   "cell_type": "code",
   "execution_count": 10,
   "id": "b5d9057c",
   "metadata": {
    "hide_input": false
   },
   "outputs": [],
   "source": [
    "win100['Total'] = win100.sum(axis=1)\n",
    "loss100['Total'] = loss100.sum(axis=1)"
   ]
  },
  {
   "cell_type": "markdown",
   "id": "eb135a15",
   "metadata": {},
   "source": [
    "The subject dataframe I will use to cluster only the Wood study. This study was ran on two seperate groups with different ages so will hopefully provide interesting results."
   ]
  },
  {
   "cell_type": "code",
   "execution_count": 11,
   "id": "d31030fa",
   "metadata": {},
   "outputs": [
    {
     "data": {
      "text/html": [
       "<div>\n",
       "<style scoped>\n",
       "    .dataframe tbody tr th:only-of-type {\n",
       "        vertical-align: middle;\n",
       "    }\n",
       "\n",
       "    .dataframe tbody tr th {\n",
       "        vertical-align: top;\n",
       "    }\n",
       "\n",
       "    .dataframe thead th {\n",
       "        text-align: right;\n",
       "    }\n",
       "</style>\n",
       "<table border=\"1\" class=\"dataframe\">\n",
       "  <thead>\n",
       "    <tr style=\"text-align: right;\">\n",
       "      <th></th>\n",
       "      <th>Subjects</th>\n",
       "      <th>Difference</th>\n",
       "      <th>Total-B/D</th>\n",
       "      <th>Study</th>\n",
       "      <th>AgeProfile</th>\n",
       "    </tr>\n",
       "  </thead>\n",
       "  <tbody>\n",
       "    <tr>\n",
       "      <th>449</th>\n",
       "      <td>Subj_450</td>\n",
       "      <td>-1420</td>\n",
       "      <td>50.0</td>\n",
       "      <td>Wood</td>\n",
       "      <td>Old</td>\n",
       "    </tr>\n",
       "    <tr>\n",
       "      <th>450</th>\n",
       "      <td>Subj_451</td>\n",
       "      <td>-595</td>\n",
       "      <td>60.0</td>\n",
       "      <td>Wood</td>\n",
       "      <td>Old</td>\n",
       "    </tr>\n",
       "    <tr>\n",
       "      <th>451</th>\n",
       "      <td>Subj_452</td>\n",
       "      <td>-470</td>\n",
       "      <td>51.0</td>\n",
       "      <td>Wood</td>\n",
       "      <td>Old</td>\n",
       "    </tr>\n",
       "    <tr>\n",
       "      <th>452</th>\n",
       "      <td>Subj_453</td>\n",
       "      <td>2360</td>\n",
       "      <td>33.0</td>\n",
       "      <td>Wood</td>\n",
       "      <td>Old</td>\n",
       "    </tr>\n",
       "    <tr>\n",
       "      <th>453</th>\n",
       "      <td>Subj_454</td>\n",
       "      <td>-565</td>\n",
       "      <td>66.0</td>\n",
       "      <td>Wood</td>\n",
       "      <td>Old</td>\n",
       "    </tr>\n",
       "    <tr>\n",
       "      <th>454</th>\n",
       "      <td>Subj_455</td>\n",
       "      <td>-1510</td>\n",
       "      <td>57.0</td>\n",
       "      <td>Wood</td>\n",
       "      <td>Old</td>\n",
       "    </tr>\n",
       "    <tr>\n",
       "      <th>455</th>\n",
       "      <td>Subj_456</td>\n",
       "      <td>-2475</td>\n",
       "      <td>77.0</td>\n",
       "      <td>Wood</td>\n",
       "      <td>Old</td>\n",
       "    </tr>\n",
       "    <tr>\n",
       "      <th>456</th>\n",
       "      <td>Subj_457</td>\n",
       "      <td>-1860</td>\n",
       "      <td>75.0</td>\n",
       "      <td>Wood</td>\n",
       "      <td>Old</td>\n",
       "    </tr>\n",
       "    <tr>\n",
       "      <th>457</th>\n",
       "      <td>Subj_458</td>\n",
       "      <td>-2330</td>\n",
       "      <td>63.0</td>\n",
       "      <td>Wood</td>\n",
       "      <td>Old</td>\n",
       "    </tr>\n",
       "    <tr>\n",
       "      <th>458</th>\n",
       "      <td>Subj_459</td>\n",
       "      <td>2480</td>\n",
       "      <td>73.0</td>\n",
       "      <td>Wood</td>\n",
       "      <td>Old</td>\n",
       "    </tr>\n",
       "    <tr>\n",
       "      <th>459</th>\n",
       "      <td>Subj_460</td>\n",
       "      <td>-3290</td>\n",
       "      <td>73.0</td>\n",
       "      <td>Wood</td>\n",
       "      <td>Old</td>\n",
       "    </tr>\n",
       "    <tr>\n",
       "      <th>460</th>\n",
       "      <td>Subj_461</td>\n",
       "      <td>-3290</td>\n",
       "      <td>73.0</td>\n",
       "      <td>Wood</td>\n",
       "      <td>Old</td>\n",
       "    </tr>\n",
       "    <tr>\n",
       "      <th>461</th>\n",
       "      <td>Subj_462</td>\n",
       "      <td>-720</td>\n",
       "      <td>73.0</td>\n",
       "      <td>Wood</td>\n",
       "      <td>Old</td>\n",
       "    </tr>\n",
       "    <tr>\n",
       "      <th>462</th>\n",
       "      <td>Subj_463</td>\n",
       "      <td>-2000</td>\n",
       "      <td>59.0</td>\n",
       "      <td>Wood</td>\n",
       "      <td>Old</td>\n",
       "    </tr>\n",
       "    <tr>\n",
       "      <th>463</th>\n",
       "      <td>Subj_464</td>\n",
       "      <td>-1570</td>\n",
       "      <td>64.0</td>\n",
       "      <td>Wood</td>\n",
       "      <td>Old</td>\n",
       "    </tr>\n",
       "    <tr>\n",
       "      <th>464</th>\n",
       "      <td>Subj_465</td>\n",
       "      <td>2400</td>\n",
       "      <td>70.0</td>\n",
       "      <td>Wood</td>\n",
       "      <td>Old</td>\n",
       "    </tr>\n",
       "    <tr>\n",
       "      <th>465</th>\n",
       "      <td>Subj_466</td>\n",
       "      <td>-1035</td>\n",
       "      <td>52.0</td>\n",
       "      <td>Wood</td>\n",
       "      <td>Old</td>\n",
       "    </tr>\n",
       "    <tr>\n",
       "      <th>466</th>\n",
       "      <td>Subj_467</td>\n",
       "      <td>-2375</td>\n",
       "      <td>69.0</td>\n",
       "      <td>Wood</td>\n",
       "      <td>Old</td>\n",
       "    </tr>\n",
       "    <tr>\n",
       "      <th>467</th>\n",
       "      <td>Subj_468</td>\n",
       "      <td>1390</td>\n",
       "      <td>76.0</td>\n",
       "      <td>Wood</td>\n",
       "      <td>Old</td>\n",
       "    </tr>\n",
       "    <tr>\n",
       "      <th>468</th>\n",
       "      <td>Subj_469</td>\n",
       "      <td>-2235</td>\n",
       "      <td>50.0</td>\n",
       "      <td>Wood</td>\n",
       "      <td>Old</td>\n",
       "    </tr>\n",
       "  </tbody>\n",
       "</table>\n",
       "</div>"
      ],
      "text/plain": [
       "     Subjects  Difference  Total-B/D Study AgeProfile\n",
       "449  Subj_450       -1420       50.0  Wood        Old\n",
       "450  Subj_451        -595       60.0  Wood        Old\n",
       "451  Subj_452        -470       51.0  Wood        Old\n",
       "452  Subj_453        2360       33.0  Wood        Old\n",
       "453  Subj_454        -565       66.0  Wood        Old\n",
       "454  Subj_455       -1510       57.0  Wood        Old\n",
       "455  Subj_456       -2475       77.0  Wood        Old\n",
       "456  Subj_457       -1860       75.0  Wood        Old\n",
       "457  Subj_458       -2330       63.0  Wood        Old\n",
       "458  Subj_459        2480       73.0  Wood        Old\n",
       "459  Subj_460       -3290       73.0  Wood        Old\n",
       "460  Subj_461       -3290       73.0  Wood        Old\n",
       "461  Subj_462        -720       73.0  Wood        Old\n",
       "462  Subj_463       -2000       59.0  Wood        Old\n",
       "463  Subj_464       -1570       64.0  Wood        Old\n",
       "464  Subj_465        2400       70.0  Wood        Old\n",
       "465  Subj_466       -1035       52.0  Wood        Old\n",
       "466  Subj_467       -2375       69.0  Wood        Old\n",
       "467  Subj_468        1390       76.0  Wood        Old\n",
       "468  Subj_469       -2235       50.0  Wood        Old"
      ]
     },
     "execution_count": 11,
     "metadata": {},
     "output_type": "execute_result"
    }
   ],
   "source": [
    "subject = pd.DataFrame(columns=[\"Subjects\"])\n",
    "subject[\"Subjects\"] = win100.index\n",
    "subject[\"Difference\"] = win100[\"Total\"].values + loss100[\"Total\"].values\n",
    "subject[\"Total-B/D\"] = choice_new[\"Total-B/D\"].values/100 * 100\n",
    "subject[\"Study\"] = index100[\"Study\"].values\n",
    "subject = subject[subject.Study == \"Wood\"]\n",
    "subject[\"AgeProfile\"] = \"\"\n",
    "subject.AgeProfile.values[:91] = \"Young\"\n",
    "subject.AgeProfile.values[91:] = \"Old\"\n",
    "subject.tail(20)"
   ]
  },
  {
   "cell_type": "code",
   "execution_count": 12,
   "id": "a53aed8a",
   "metadata": {},
   "outputs": [
    {
     "data": {
      "text/plain": [
       "<AxesSubplot:xlabel='Difference', ylabel='Total-B/D'>"
      ]
     },
     "execution_count": 12,
     "metadata": {},
     "output_type": "execute_result"
    },
    {
     "data": {
      "image/png": "[encoded data removed]",
      "text/plain": [
       "<Figure size 432x288 with 1 Axes>"
      ]
     },
     "metadata": {
      "needs_background": "light"
     },
     "output_type": "display_data"
    }
   ],
   "source": [
    "sns.scatterplot(data=subject, x=\"Difference\", y=\"Total-B/D\", hue=\"AgeProfile\")"
   ]
  },
  {
   "cell_type": "markdown",
   "id": "79e6a496",
   "metadata": {},
   "source": [
    "The dataset had a larger representation of younger people, from the scatter plot above you can clearly see that there are more older nodes making extreme loses and percentage wise more older people losing money. From my initial data analysis it seems as though in general the younger people were quicker to figure out that the B card and the D card were"
   ]
  },
  {
   "cell_type": "code",
   "execution_count": 13,
   "id": "1a98ab90",
   "metadata": {},
   "outputs": [],
   "source": [
    "#This is the dataset that we will be using for our clustering\n",
    "subject.to_csv(\"Data/clustering.csv\")"
   ]
  }
 ],
 "metadata": {
  "kernelspec": {
   "display_name": "Python 3",
   "language": "python",
   "name": "python3"
  },
  "language_info": {
   "codemirror_mode": {
    "name": "ipython",
    "version": 3
   },
   "file_extension": ".py",
   "mimetype": "text/x-python",
   "name": "python",
   "nbconvert_exporter": "python",
   "pygments_lexer": "ipython3",
   "version": "3.8.8"
  }
 },
 "nbformat": 4,
 "nbformat_minor": 5
}
