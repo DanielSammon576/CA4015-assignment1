{
 "cells": [
  {
   "cell_type": "markdown",
   "id": "2e089478",
   "metadata": {},
   "source": [
    "# **Introduction: Iowa Gambling Task**"
   ]
  },
  {
   "cell_type": "raw",
   "id": "f994a2c3",
   "metadata": {},
   "source": [
    "The main idea behind the Iowa Gambling Task is test participants decision making using four cards. The participants taking part in the game have a choice of four cards (A,B,C,D) depending on the card choosen and chance the participants can gain or lose money."
   ]
  },
  {
   "cell_type": "markdown",
   "id": "3aa03ebe",
   "metadata": {},
   "source": [
    "![**Iowa Gambling**](iowagameimage.png)"
   ]
  },
  {
   "cell_type": "markdown",
   "id": "b5def1ba",
   "metadata": {},
   "source": [
    ":::{note}\n",
    "The task was originally developed to detect problems that participants may have been having with their ventromedial prefrontal cortex\n",
    ":::\n"
   ]
  },
  {
   "cell_type": "code",
   "execution_count": null,
   "id": "820fc4eb",
   "metadata": {},
   "outputs": [],
   "source": []
  },
  {
   "cell_type": "code",
   "execution_count": null,
   "id": "0ddc4d27",
   "metadata": {},
   "outputs": [],
   "source": []
  },
  {
   "cell_type": "code",
   "execution_count": null,
   "id": "3f64f92a",
   "metadata": {},
   "outputs": [],
   "source": []
  },
  {
   "cell_type": "code",
   "execution_count": null,
   "id": "7c8b02d3",
   "metadata": {},
   "outputs": [],
   "source": []
  }
 ],
 "metadata": {
  "kernelspec": {
   "display_name": "Python 3",
   "language": "python",
   "name": "python3"
  },
  "language_info": {
   "codemirror_mode": {
    "name": "ipython",
    "version": 3
   },
   "file_extension": ".py",
   "mimetype": "text/x-python",
   "name": "python",
   "nbconvert_exporter": "python",
   "pygments_lexer": "ipython3",
   "version": "3.8.8"
  }
 },
 "nbformat": 4,
 "nbformat_minor": 5
}
